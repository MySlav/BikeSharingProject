{
 "cells": [
  {
   "cell_type": "markdown",
   "metadata": {},
   "source": [
    "<h1 style=\"font-size:30px;text-align: center;\">- Introduction to Data Science  - Student Project -</h1>\n",
    "<h1 style=\"font-size:25px;text-align: center;\">- Bike Sharing - Success classification -</h1>\n",
    "\n",
    "![Algebra](https://repozitorij.algebra.hr/sites/repozitorij.algebra.hr/files/algebra_subbrand_vu_color-black_h_1.png)\n",
    "\n",
    "=========================================================================================================================\n",
    "<b>*Made: January 2021.* </b>\n",
    "\n",
    "<b>*Author: Mislav Spajić, univ. bacc. ing. agr.*</b>\n",
    "\n",
    "<b>*Menthors: doc. dr. sc. Goran Klepac, mr. sc. Mirko Talajić*</b>"
   ]
  },
  {
   "cell_type": "markdown",
   "metadata": {},
   "source": [
    "## Table of Contents\n",
    "\n",
    "[1. Introduction](#introduction)\n",
    "   > [1.1. Goal of the project](#goal)   \n",
    "   > [1.2. Dataset description](#dataset)    \n",
    "   > [1.3. Problem description](#problem)\n",
    "   \n",
    "\n",
    "[2. Prerequisites](#prereq)\n",
    "\n",
    "\n",
    "[3. Data quality analysis](#dqual)\n",
    "    \n",
    "   > [3.1. Importing data](#data)  \n",
    "   > [3.2. Missing values](#miss)   \n",
    "   > [3.3. Deriving the target variable](#derive)    \n",
    "   > [3.4. Dropping unneeded columns](#drop)  \n",
    "   > [3.5. Distribution of categorical variables](#distcat)  \n",
    "   > [3.6. Distribution of continuous variables](#distcont)\n",
    "\n",
    "[4. Univariate analysis](#ua)\n",
    "\n",
    "   > [4.1. WoE, IV for each variable](#woeiv)  \n",
    "   > [4.2. Selection of most predictive variables](#select)    \n",
    "   > [4.3. Coarse Classing - grouping by WoE](#cc)\n",
    "   \n",
    "[5. Preparation for predictive model](#prep)\n",
    "\n",
    "   > [5.1. Correlation calculation](#corr)    \n",
    "   > [5.2. Variable reduction](#reduc)    \n",
    "   > [5.3. Dummy variable creation](#dummy)  \n",
    "   > [5.4. Dummies correlation](#dcorr)\n",
    "  \n",
    "[6. Model development](#model)\n",
    "\n",
    "   > [6.1. Train - test split](#ttsplit)   \n",
    "   > [6.2. Helper functions](#helper)    \n",
    "   > [6.3. Logistic Regression](#logreg)    \n",
    "   > [6.4. Challenge model](#chall)   \n",
    "   > [6.5. Random Forest](#rf)   \n",
    "   > [6.6. Hyperparameter optimization](#hyper)   \n",
    "   > [6.7. Herfindahl-Hirschman Index](#hhi)  \n",
    "   > [6.8. Stability index ](#stab) \n",
    "   \n",
    "[7. Project conclusion](#conclusion) \n",
    "\n",
    "---------------------------------------------------------------------\n",
    "   "
   ]
  },
  {
   "cell_type": "markdown",
   "metadata": {},
   "source": [
    "## 1. Introduction<a name=\"introduction\"></a>"
   ]
  },
  {
   "cell_type": "markdown",
   "metadata": {},
   "source": [
    "### 1.1. Goal of the project<a name=\"goal\"></a>"
   ]
  },
  {
   "cell_type": "markdown",
   "metadata": {},
   "source": [
    "&nbsp;&nbsp;&nbsp;&nbsp;Goal of this student project was to successfully apply knowledge learnt in the class 'Introduction to Data Science' on a given dataset. Primarily, application of attribute relevance analysis techniques we have learnt (Weight of Evidence and Information Value), prediction of success/non-success of the target variable using logistic regression model and other classification algorithms, evaluation of the models using AUC-ROC curve, classification matrix, etc. I have been assigned with a dataset regarding one bike sharing service usage. More details about the dataset in the next chapter."
   ]
  },
  {
   "cell_type": "markdown",
   "metadata": {},
   "source": [
    "### 1.2. Dataset description<a name=\"dataset\"></a>"
   ]
  },
  {
   "cell_type": "markdown",
   "metadata": {},
   "source": [
    "&nbsp;&nbsp;&nbsp;&nbsp;I will be using Bike sharing dataset provided by UCI Machine Learning Repository. \n",
    "\n",
    "&nbsp;&nbsp;&nbsp;&nbsp;Data was obtained from this link : https://archive.ics.uci.edu/ml/datasets/bike+sharing+dataset#.\n",
    "\n",
    "&nbsp;&nbsp;&nbsp;&nbsp;This dataset contains the hourly and daily count of rental bikes between years 2011 and 2012 in Capital bikeshare system with the corresponding weather and seasonal information. \n",
    "\n",
    "&nbsp;&nbsp;&nbsp;Attribute Information:\n",
    "\n",
    "&nbsp;&nbsp;&nbsp;Both hour.csv and day.csv have the following fields, except hr which is not available in day.csv.\n",
    "\n",
    "- **instant**: record index\n",
    "- **dteday** : date\n",
    "- **season** : season (1:winter, 2:spring, 3:summer, 4:fall)\n",
    "- **yr** : year (0: 2011, 1:2012)\n",
    "- **mnth** : month ( 1 to 12)\n",
    "- **hr** : hour (0 to 23)\n",
    "- **holiday** : weather day is holiday or not (extracted from [Web Link])\n",
    "- **weekday** : day of the week\n",
    "- **workingday** : if day is neither weekend nor holiday is 1, otherwise is 0.\n",
    "+ **weathersit** :\n",
    " - 1: Clear, Few clouds, Partly cloudy, Partly cloudy\n",
    " - 2: Mist + Cloudy, Mist + Broken clouds, Mist + Few clouds, Mist\n",
    " - 3: Light Snow, Light Rain + Thunderstorm + Scattered clouds, Light Rain + Scattered clouds\n",
    " - 4: Heavy Rain + Ice Pallets + Thunderstorm + Mist, Snow + Fog\n",
    "- **temp** : Normalized temperature in Celsius. The values are derived via (t-t_min)/(t_max-t_min), t_min=-8, t_max=+39 (only in hourly scale)\n",
    "- **atemp**: Normalized feeling temperature in Celsius. The values are derived via (t-t_min)/(t_max-t_min), t_min=-16, t_max=+50 (only in hourly scale)\n",
    "- **hum**: Normalized humidity. The values are divided to 100 (max)\n",
    "- **windspeed**: Normalized wind speed. The values are divided to 67 (max)\n",
    "- **casual**: count of casual users\n",
    "- **registered**: count of registered users\n",
    "- **cnt**: count of total rental bikes including both casual and registered\n",
    "\n",
    "\n",
    "\n"
   ]
  },
  {
   "cell_type": "markdown",
   "metadata": {},
   "source": [
    "### 1.3. Problem description<a name=\"problem\"></a>"
   ]
  },
  {
   "cell_type": "markdown",
   "metadata": {},
   "source": [
    "&nbsp;&nbsp;&nbsp;&nbsp;Bike sharing systems are new generation of traditional bike rentals where whole process from membership, rental and return back has become automatic. Through these systems, user is able to easily rent a bike from a particular position and return back at another position. Currently, there are about over 500 bike-sharing programs around the world which is composed of over 500 thousand bicycles. Today, there exists great interest in these systems due to their important role in traffic, environmental and health issues. Apart from interesting real-world applications of bike sharing systems, the characteristics of data being generated by these systems make them attractive for the research.\n",
    "\n",
    "&nbsp;&nbsp;&nbsp;&nbsp;Bike-sharing rental process is highly correlated to the environmental and seasonal settings. For instance, weather conditions, precipitation, day of week, season, hour of the day, etc. can affect the rental behaviours. The core data set is related to the two-year historical log corresponding to years 2011 and 2012 from Capital Bikeshare system, Washington D.C., USA which is publicly available in http://capitalbikeshare.com/system-data. Authors of this dataset aggregated the data on two hourly and daily basis and then extracted and added the corresponding weather and seasonal information. Weather information was extracted from http://www.freemeteo.com.\n",
    "\n",
    "&nbsp;&nbsp;&nbsp;&nbsp;Since the goal of this project is to create a binary classification  model and the logical target variables in this dataset (casual, registered, cnt) are discrete numerical variables, I will derive the binary target variable from count of the total rental bikes (cnt). Was some day success (1) or non-success (0) will be determined by comparing the value for that day with monthly mean in which that day falls in. \n",
    "\n",
    "&nbsp;&nbsp;&nbsp;&nbsp;I will use the daily data to try to successfully predict was some day success (1) or non-success (0)."
   ]
  },
  {
   "cell_type": "markdown",
   "metadata": {},
   "source": [
    "# 2. Prerequisites<a name=\"prereq\"></a>"
   ]
  },
  {
   "cell_type": "markdown",
   "metadata": {},
   "source": [
    "&nbsp;&nbsp;&nbsp;&nbsp;Importing needed Python libraries & modules and initial setup."
   ]
  },
  {
   "cell_type": "code",
   "execution_count": 130,
   "metadata": {
    "scrolled": false
   },
   "outputs": [],
   "source": [
    "import numpy as np\n",
    "import pandas as pd\n",
    "import matplotlib.pyplot as plt\n",
    "import seaborn as sns\n",
    "from sklearn.model_selection import train_test_split\n",
    "from sklearn.linear_model import LogisticRegression\n",
    "from sklearn.metrics import classification_report, confusion_matrix, recall_score, accuracy_score, precision_score\n",
    "from sklearn.metrics import roc_curve, roc_auc_score\n",
    "from sklearn.ensemble import RandomForestClassifier\n",
    "from sklearn.naive_bayes import GaussianNB\n",
    "from sklearn.model_selection import GridSearchCV\n",
    "\n",
    "%matplotlib inline \n",
    "#Jupyter inline magic command needed to display plots\n",
    "plt.style.use(\"ggplot\")\n",
    "#Setting different plot style than default, using ggplot style derived from famous R library ggplot2\n",
    "seed=42\n",
    "#Defining seed variable to use in algorithms which rely on randomness, this is for reproducibility"
   ]
  },
  {
   "cell_type": "markdown",
   "metadata": {},
   "source": [
    "# 3. Data quality analysis<a name=\"dqual\"></a>"
   ]
  },
  {
   "cell_type": "markdown",
   "metadata": {},
   "source": [
    "## 3.1. Importing data<a name=\"data\"></a>"
   ]
  },
  {
   "cell_type": "markdown",
   "metadata": {},
   "source": [
    "&nbsp;&nbsp;&nbsp;&nbsp;I will use the daily data to conduct the analysis and modelling."
   ]
  },
  {
   "cell_type": "code",
   "execution_count": 131,
   "metadata": {
    "scrolled": false
   },
   "outputs": [
    {
     "data": {
      "text/html": [
       "<div>\n",
       "<style scoped>\n",
       "    .dataframe tbody tr th:only-of-type {\n",
       "        vertical-align: middle;\n",
       "    }\n",
       "\n",
       "    .dataframe tbody tr th {\n",
       "        vertical-align: top;\n",
       "    }\n",
       "\n",
       "    .dataframe thead th {\n",
       "        text-align: right;\n",
       "    }\n",
       "</style>\n",
       "<table border=\"1\" class=\"dataframe\">\n",
       "  <thead>\n",
       "    <tr style=\"text-align: right;\">\n",
       "      <th></th>\n",
       "      <th>instant</th>\n",
       "      <th>dteday</th>\n",
       "      <th>season</th>\n",
       "      <th>yr</th>\n",
       "      <th>mnth</th>\n",
       "      <th>holiday</th>\n",
       "      <th>weekday</th>\n",
       "      <th>workingday</th>\n",
       "      <th>weathersit</th>\n",
       "      <th>temp</th>\n",
       "      <th>atemp</th>\n",
       "      <th>hum</th>\n",
       "      <th>windspeed</th>\n",
       "      <th>casual</th>\n",
       "      <th>registered</th>\n",
       "      <th>cnt</th>\n",
       "    </tr>\n",
       "  </thead>\n",
       "  <tbody>\n",
       "    <tr>\n",
       "      <th>0</th>\n",
       "      <td>1</td>\n",
       "      <td>2011-01-01</td>\n",
       "      <td>1</td>\n",
       "      <td>0</td>\n",
       "      <td>1</td>\n",
       "      <td>0</td>\n",
       "      <td>6</td>\n",
       "      <td>0</td>\n",
       "      <td>2</td>\n",
       "      <td>0.344167</td>\n",
       "      <td>0.363625</td>\n",
       "      <td>0.805833</td>\n",
       "      <td>0.160446</td>\n",
       "      <td>331</td>\n",
       "      <td>654</td>\n",
       "      <td>985</td>\n",
       "    </tr>\n",
       "    <tr>\n",
       "      <th>1</th>\n",
       "      <td>2</td>\n",
       "      <td>2011-01-02</td>\n",
       "      <td>1</td>\n",
       "      <td>0</td>\n",
       "      <td>1</td>\n",
       "      <td>0</td>\n",
       "      <td>0</td>\n",
       "      <td>0</td>\n",
       "      <td>2</td>\n",
       "      <td>0.363478</td>\n",
       "      <td>0.353739</td>\n",
       "      <td>0.696087</td>\n",
       "      <td>0.248539</td>\n",
       "      <td>131</td>\n",
       "      <td>670</td>\n",
       "      <td>801</td>\n",
       "    </tr>\n",
       "    <tr>\n",
       "      <th>2</th>\n",
       "      <td>3</td>\n",
       "      <td>2011-01-03</td>\n",
       "      <td>1</td>\n",
       "      <td>0</td>\n",
       "      <td>1</td>\n",
       "      <td>0</td>\n",
       "      <td>1</td>\n",
       "      <td>1</td>\n",
       "      <td>1</td>\n",
       "      <td>0.196364</td>\n",
       "      <td>0.189405</td>\n",
       "      <td>0.437273</td>\n",
       "      <td>0.248309</td>\n",
       "      <td>120</td>\n",
       "      <td>1229</td>\n",
       "      <td>1349</td>\n",
       "    </tr>\n",
       "    <tr>\n",
       "      <th>3</th>\n",
       "      <td>4</td>\n",
       "      <td>2011-01-04</td>\n",
       "      <td>1</td>\n",
       "      <td>0</td>\n",
       "      <td>1</td>\n",
       "      <td>0</td>\n",
       "      <td>2</td>\n",
       "      <td>1</td>\n",
       "      <td>1</td>\n",
       "      <td>0.200000</td>\n",
       "      <td>0.212122</td>\n",
       "      <td>0.590435</td>\n",
       "      <td>0.160296</td>\n",
       "      <td>108</td>\n",
       "      <td>1454</td>\n",
       "      <td>1562</td>\n",
       "    </tr>\n",
       "    <tr>\n",
       "      <th>4</th>\n",
       "      <td>5</td>\n",
       "      <td>2011-01-05</td>\n",
       "      <td>1</td>\n",
       "      <td>0</td>\n",
       "      <td>1</td>\n",
       "      <td>0</td>\n",
       "      <td>3</td>\n",
       "      <td>1</td>\n",
       "      <td>1</td>\n",
       "      <td>0.226957</td>\n",
       "      <td>0.229270</td>\n",
       "      <td>0.436957</td>\n",
       "      <td>0.186900</td>\n",
       "      <td>82</td>\n",
       "      <td>1518</td>\n",
       "      <td>1600</td>\n",
       "    </tr>\n",
       "  </tbody>\n",
       "</table>\n",
       "</div>"
      ],
      "text/plain": [
       "   instant      dteday  season  yr  mnth  holiday  weekday  workingday  \\\n",
       "0        1  2011-01-01       1   0     1        0        6           0   \n",
       "1        2  2011-01-02       1   0     1        0        0           0   \n",
       "2        3  2011-01-03       1   0     1        0        1           1   \n",
       "3        4  2011-01-04       1   0     1        0        2           1   \n",
       "4        5  2011-01-05       1   0     1        0        3           1   \n",
       "\n",
       "   weathersit      temp     atemp       hum  windspeed  casual  registered  \\\n",
       "0           2  0.344167  0.363625  0.805833   0.160446     331         654   \n",
       "1           2  0.363478  0.353739  0.696087   0.248539     131         670   \n",
       "2           1  0.196364  0.189405  0.437273   0.248309     120        1229   \n",
       "3           1  0.200000  0.212122  0.590435   0.160296     108        1454   \n",
       "4           1  0.226957  0.229270  0.436957   0.186900      82        1518   \n",
       "\n",
       "    cnt  \n",
       "0   985  \n",
       "1   801  \n",
       "2  1349  \n",
       "3  1562  \n",
       "4  1600  "
      ]
     },
     "execution_count": 131,
     "metadata": {},
     "output_type": "execute_result"
    }
   ],
   "source": [
    "#Importing the data and checking how does it look\n",
    "data=pd.read_csv(\"https://github.com/MySlav/BikeSharingProject/raw/main/data/day.csv\")\n",
    "data.head(5)"
   ]
  },
  {
   "cell_type": "code",
   "execution_count": 132,
   "metadata": {
    "scrolled": false
   },
   "outputs": [
    {
     "data": {
      "text/plain": [
       "instant         int64\n",
       "dteday         object\n",
       "season          int64\n",
       "yr              int64\n",
       "mnth            int64\n",
       "holiday         int64\n",
       "weekday         int64\n",
       "workingday      int64\n",
       "weathersit      int64\n",
       "temp          float64\n",
       "atemp         float64\n",
       "hum           float64\n",
       "windspeed     float64\n",
       "casual          int64\n",
       "registered      int64\n",
       "cnt             int64\n",
       "dtype: object"
      ]
     },
     "execution_count": 132,
     "metadata": {},
     "output_type": "execute_result"
    }
   ],
   "source": [
    "#Checking data types\n",
    "data.dtypes"
   ]
  },
  {
   "cell_type": "code",
   "execution_count": 133,
   "metadata": {
    "scrolled": false
   },
   "outputs": [],
   "source": [
    "#Renaming columns for readability\n",
    "data.rename(columns={'holiday':'is_holiday',\n",
    "                        'workingday':'is_workingday',\n",
    "                        'weathersit':'weather_condition',\n",
    "                        'hum':'humidity',\n",
    "                        'mnth':'month',\n",
    "                        'cnt':'total_count',\n",
    "                        'yr':'year'},inplace=True)"
   ]
  },
  {
   "cell_type": "markdown",
   "metadata": {},
   "source": [
    "## 3.2. Missing values<a name=\"miss\"></a>"
   ]
  },
  {
   "cell_type": "code",
   "execution_count": 134,
   "metadata": {
    "scrolled": false
   },
   "outputs": [
    {
     "name": "stdout",
     "output_type": "stream",
     "text": [
      "<class 'pandas.core.frame.DataFrame'>\n",
      "RangeIndex: 731 entries, 0 to 730\n",
      "Data columns (total 16 columns):\n",
      " #   Column             Non-Null Count  Dtype  \n",
      "---  ------             --------------  -----  \n",
      " 0   instant            731 non-null    int64  \n",
      " 1   dteday             731 non-null    object \n",
      " 2   season             731 non-null    int64  \n",
      " 3   year               731 non-null    int64  \n",
      " 4   month              731 non-null    int64  \n",
      " 5   is_holiday         731 non-null    int64  \n",
      " 6   weekday            731 non-null    int64  \n",
      " 7   is_workingday      731 non-null    int64  \n",
      " 8   weather_condition  731 non-null    int64  \n",
      " 9   temp               731 non-null    float64\n",
      " 10  atemp              731 non-null    float64\n",
      " 11  humidity           731 non-null    float64\n",
      " 12  windspeed          731 non-null    float64\n",
      " 13  casual             731 non-null    int64  \n",
      " 14  registered         731 non-null    int64  \n",
      " 15  total_count        731 non-null    int64  \n",
      "dtypes: float64(4), int64(11), object(1)\n",
      "memory usage: 91.5+ KB\n"
     ]
    }
   ],
   "source": [
    "data.info()"
   ]
  },
  {
   "cell_type": "markdown",
   "metadata": {},
   "source": [
    "&nbsp;&nbsp;&nbsp;&nbsp;We can see I have imported 16 columns and 731 rows of data, none of the columns contains missing values."
   ]
  },
  {
   "cell_type": "code",
   "execution_count": 135,
   "metadata": {
    "scrolled": false
   },
   "outputs": [
    {
     "data": {
      "text/plain": [
       "instant              0\n",
       "dteday               0\n",
       "season               0\n",
       "year                 0\n",
       "month                0\n",
       "is_holiday           0\n",
       "weekday              0\n",
       "is_workingday        0\n",
       "weather_condition    0\n",
       "temp                 0\n",
       "atemp                0\n",
       "humidity             0\n",
       "windspeed            0\n",
       "casual               0\n",
       "registered           0\n",
       "total_count          0\n",
       "dtype: int64"
      ]
     },
     "execution_count": 135,
     "metadata": {},
     "output_type": "execute_result"
    }
   ],
   "source": [
    "#We can also check the missing values this way\n",
    "data.isnull().sum()"
   ]
  },
  {
   "cell_type": "markdown",
   "metadata": {},
   "source": [
    "## 3.3. Deriving the target variable<a name=\"derive\"></a>"
   ]
  },
  {
   "cell_type": "markdown",
   "metadata": {},
   "source": [
    "&nbsp;&nbsp;&nbsp;&nbsp;As mentioned before, because of the nature of this project, we need a binary target variable. I will derive the binary target variable from count of the total rental bikes (total_count). Was some day success (1) or non-success (0) will be determined by comparing the value for that day with monthly mean in which that day falls in (rounded to whole number). \n",
    "\n",
    "success = total_count  $\\ge$ mean (total_count  for that month in particular year)"
   ]
  },
  {
   "cell_type": "code",
   "execution_count": 136,
   "metadata": {
    "scrolled": false
   },
   "outputs": [
    {
     "data": {
      "text/plain": [
       "{(0, 1): 1232.0,\n",
       " (0, 2): 1722.0,\n",
       " (0, 3): 2066.0,\n",
       " (0, 4): 3162.0,\n",
       " (0, 5): 4381.0,\n",
       " (0, 6): 4784.0,\n",
       " (0, 7): 4559.0,\n",
       " (0, 8): 4409.0,\n",
       " (0, 9): 4247.0,\n",
       " (0, 10): 3984.0,\n",
       " (0, 11): 3406.0,\n",
       " (0, 12): 2817.0,\n",
       " (1, 1): 3121.0,\n",
       " (1, 2): 3556.0,\n",
       " (1, 3): 5319.0,\n",
       " (1, 4): 5807.0,\n",
       " (1, 5): 6318.0,\n",
       " (1, 6): 6761.0,\n",
       " (1, 7): 6568.0,\n",
       " (1, 8): 6919.0,\n",
       " (1, 9): 7286.0,\n",
       " (1, 10): 6414.0,\n",
       " (1, 11): 5089.0,\n",
       " (1, 12): 3991.0}"
      ]
     },
     "execution_count": 136,
     "metadata": {},
     "output_type": "execute_result"
    }
   ],
   "source": [
    "#Calculating the needed monthly means(for each year)\n",
    "mmean=data.groupby(['year','month']).mean()['total_count'].round()\n",
    "#Converting it to dictionary object\n",
    "mmean=mmean.to_dict()\n",
    "mmean"
   ]
  },
  {
   "cell_type": "markdown",
   "metadata": {},
   "source": [
    "&nbsp;&nbsp;&nbsp;&nbsp;This looks good, now we can create a new column \"success\" based on the aforementioned expression."
   ]
  },
  {
   "cell_type": "code",
   "execution_count": 137,
   "metadata": {
    "scrolled": false
   },
   "outputs": [
    {
     "data": {
      "text/plain": [
       "1    424\n",
       "0    307\n",
       "dtype: int64"
      ]
     },
     "execution_count": 137,
     "metadata": {},
     "output_type": "execute_result"
    }
   ],
   "source": [
    "#Prerequisite\n",
    "data[\"yearmonth\"] = [*zip(data.year, data.month)]\n",
    "#Creating the needed series and checking it\n",
    "success=(data[\"total_count\"]>=data[\"yearmonth\"].map(mmean)).astype(int)\n",
    "data.drop(columns=\"yearmonth\",inplace=True)\n",
    "success.value_counts()"
   ]
  },
  {
   "cell_type": "markdown",
   "metadata": {},
   "source": [
    "&nbsp;&nbsp;&nbsp;&nbsp;This is good, distribution of the derived variable is not heavily skewed neither towards success neither to non-success."
   ]
  },
  {
   "cell_type": "code",
   "execution_count": 138,
   "metadata": {
    "scrolled": false
   },
   "outputs": [],
   "source": [
    "#Adding the variable to the dataframe\n",
    "data[\"success\"]=success"
   ]
  },
  {
   "cell_type": "markdown",
   "metadata": {},
   "source": [
    "## 3.4. Dropping unneeded columns<a name=\"drop\"></a>"
   ]
  },
  {
   "cell_type": "markdown",
   "metadata": {},
   "source": [
    "&nbsp;&nbsp;&nbsp;&nbsp;Since I derived the \"success\" column from the \"total_count\", I should drop that column. Also, since \"total_count\" is the sum of \"casual\" and \"registered\" riders for that day, these are directly \"responsible\" for the values of \"success\" and model for predicting \"success\" with these predictors wouldn't have sense."
   ]
  },
  {
   "cell_type": "code",
   "execution_count": 139,
   "metadata": {
    "scrolled": false
   },
   "outputs": [
    {
     "data": {
      "text/html": [
       "<div>\n",
       "<style scoped>\n",
       "    .dataframe tbody tr th:only-of-type {\n",
       "        vertical-align: middle;\n",
       "    }\n",
       "\n",
       "    .dataframe tbody tr th {\n",
       "        vertical-align: top;\n",
       "    }\n",
       "\n",
       "    .dataframe thead th {\n",
       "        text-align: right;\n",
       "    }\n",
       "</style>\n",
       "<table border=\"1\" class=\"dataframe\">\n",
       "  <thead>\n",
       "    <tr style=\"text-align: right;\">\n",
       "      <th></th>\n",
       "      <th>instant</th>\n",
       "      <th>dteday</th>\n",
       "      <th>season</th>\n",
       "      <th>year</th>\n",
       "      <th>month</th>\n",
       "      <th>is_holiday</th>\n",
       "      <th>weekday</th>\n",
       "      <th>is_workingday</th>\n",
       "      <th>weather_condition</th>\n",
       "      <th>temp</th>\n",
       "      <th>atemp</th>\n",
       "      <th>humidity</th>\n",
       "      <th>windspeed</th>\n",
       "      <th>success</th>\n",
       "    </tr>\n",
       "  </thead>\n",
       "  <tbody>\n",
       "    <tr>\n",
       "      <th>0</th>\n",
       "      <td>1</td>\n",
       "      <td>2011-01-01</td>\n",
       "      <td>1</td>\n",
       "      <td>0</td>\n",
       "      <td>1</td>\n",
       "      <td>0</td>\n",
       "      <td>6</td>\n",
       "      <td>0</td>\n",
       "      <td>2</td>\n",
       "      <td>0.344167</td>\n",
       "      <td>0.363625</td>\n",
       "      <td>0.805833</td>\n",
       "      <td>0.160446</td>\n",
       "      <td>0</td>\n",
       "    </tr>\n",
       "    <tr>\n",
       "      <th>1</th>\n",
       "      <td>2</td>\n",
       "      <td>2011-01-02</td>\n",
       "      <td>1</td>\n",
       "      <td>0</td>\n",
       "      <td>1</td>\n",
       "      <td>0</td>\n",
       "      <td>0</td>\n",
       "      <td>0</td>\n",
       "      <td>2</td>\n",
       "      <td>0.363478</td>\n",
       "      <td>0.353739</td>\n",
       "      <td>0.696087</td>\n",
       "      <td>0.248539</td>\n",
       "      <td>0</td>\n",
       "    </tr>\n",
       "    <tr>\n",
       "      <th>2</th>\n",
       "      <td>3</td>\n",
       "      <td>2011-01-03</td>\n",
       "      <td>1</td>\n",
       "      <td>0</td>\n",
       "      <td>1</td>\n",
       "      <td>0</td>\n",
       "      <td>1</td>\n",
       "      <td>1</td>\n",
       "      <td>1</td>\n",
       "      <td>0.196364</td>\n",
       "      <td>0.189405</td>\n",
       "      <td>0.437273</td>\n",
       "      <td>0.248309</td>\n",
       "      <td>1</td>\n",
       "    </tr>\n",
       "    <tr>\n",
       "      <th>3</th>\n",
       "      <td>4</td>\n",
       "      <td>2011-01-04</td>\n",
       "      <td>1</td>\n",
       "      <td>0</td>\n",
       "      <td>1</td>\n",
       "      <td>0</td>\n",
       "      <td>2</td>\n",
       "      <td>1</td>\n",
       "      <td>1</td>\n",
       "      <td>0.200000</td>\n",
       "      <td>0.212122</td>\n",
       "      <td>0.590435</td>\n",
       "      <td>0.160296</td>\n",
       "      <td>1</td>\n",
       "    </tr>\n",
       "    <tr>\n",
       "      <th>4</th>\n",
       "      <td>5</td>\n",
       "      <td>2011-01-05</td>\n",
       "      <td>1</td>\n",
       "      <td>0</td>\n",
       "      <td>1</td>\n",
       "      <td>0</td>\n",
       "      <td>3</td>\n",
       "      <td>1</td>\n",
       "      <td>1</td>\n",
       "      <td>0.226957</td>\n",
       "      <td>0.229270</td>\n",
       "      <td>0.436957</td>\n",
       "      <td>0.186900</td>\n",
       "      <td>1</td>\n",
       "    </tr>\n",
       "  </tbody>\n",
       "</table>\n",
       "</div>"
      ],
      "text/plain": [
       "   instant      dteday  season  year  month  is_holiday  weekday  \\\n",
       "0        1  2011-01-01       1     0      1           0        6   \n",
       "1        2  2011-01-02       1     0      1           0        0   \n",
       "2        3  2011-01-03       1     0      1           0        1   \n",
       "3        4  2011-01-04       1     0      1           0        2   \n",
       "4        5  2011-01-05       1     0      1           0        3   \n",
       "\n",
       "   is_workingday  weather_condition      temp     atemp  humidity  windspeed  \\\n",
       "0              0                  2  0.344167  0.363625  0.805833   0.160446   \n",
       "1              0                  2  0.363478  0.353739  0.696087   0.248539   \n",
       "2              1                  1  0.196364  0.189405  0.437273   0.248309   \n",
       "3              1                  1  0.200000  0.212122  0.590435   0.160296   \n",
       "4              1                  1  0.226957  0.229270  0.436957   0.186900   \n",
       "\n",
       "   success  \n",
       "0        0  \n",
       "1        0  \n",
       "2        1  \n",
       "3        1  \n",
       "4        1  "
      ]
     },
     "execution_count": 139,
     "metadata": {},
     "output_type": "execute_result"
    }
   ],
   "source": [
    "data.drop(columns=[\"total_count\",\"casual\",\"registered\"],inplace=True)\n",
    "data.head()"
   ]
  },
  {
   "cell_type": "markdown",
   "metadata": {},
   "source": [
    "&nbsp;&nbsp;&nbsp;&nbsp;Since the initial data contains columns for year and month we can derive the day of the month from \"datetime\" and drop that column without loosing any information. We can also drop \"instant\" as this is record index."
   ]
  },
  {
   "cell_type": "code",
   "execution_count": 140,
   "metadata": {
    "scrolled": false
   },
   "outputs": [
    {
     "data": {
      "text/html": [
       "<div>\n",
       "<style scoped>\n",
       "    .dataframe tbody tr th:only-of-type {\n",
       "        vertical-align: middle;\n",
       "    }\n",
       "\n",
       "    .dataframe tbody tr th {\n",
       "        vertical-align: top;\n",
       "    }\n",
       "\n",
       "    .dataframe thead th {\n",
       "        text-align: right;\n",
       "    }\n",
       "</style>\n",
       "<table border=\"1\" class=\"dataframe\">\n",
       "  <thead>\n",
       "    <tr style=\"text-align: right;\">\n",
       "      <th></th>\n",
       "      <th>dayofmonth</th>\n",
       "      <th>season</th>\n",
       "      <th>year</th>\n",
       "      <th>month</th>\n",
       "      <th>is_holiday</th>\n",
       "      <th>weekday</th>\n",
       "      <th>is_workingday</th>\n",
       "      <th>weather_condition</th>\n",
       "      <th>temp</th>\n",
       "      <th>atemp</th>\n",
       "      <th>humidity</th>\n",
       "      <th>windspeed</th>\n",
       "      <th>success</th>\n",
       "    </tr>\n",
       "  </thead>\n",
       "  <tbody>\n",
       "    <tr>\n",
       "      <th>0</th>\n",
       "      <td>1</td>\n",
       "      <td>1</td>\n",
       "      <td>0</td>\n",
       "      <td>1</td>\n",
       "      <td>0</td>\n",
       "      <td>6</td>\n",
       "      <td>0</td>\n",
       "      <td>2</td>\n",
       "      <td>0.344167</td>\n",
       "      <td>0.363625</td>\n",
       "      <td>0.805833</td>\n",
       "      <td>0.160446</td>\n",
       "      <td>0</td>\n",
       "    </tr>\n",
       "    <tr>\n",
       "      <th>1</th>\n",
       "      <td>2</td>\n",
       "      <td>1</td>\n",
       "      <td>0</td>\n",
       "      <td>1</td>\n",
       "      <td>0</td>\n",
       "      <td>0</td>\n",
       "      <td>0</td>\n",
       "      <td>2</td>\n",
       "      <td>0.363478</td>\n",
       "      <td>0.353739</td>\n",
       "      <td>0.696087</td>\n",
       "      <td>0.248539</td>\n",
       "      <td>0</td>\n",
       "    </tr>\n",
       "    <tr>\n",
       "      <th>2</th>\n",
       "      <td>3</td>\n",
       "      <td>1</td>\n",
       "      <td>0</td>\n",
       "      <td>1</td>\n",
       "      <td>0</td>\n",
       "      <td>1</td>\n",
       "      <td>1</td>\n",
       "      <td>1</td>\n",
       "      <td>0.196364</td>\n",
       "      <td>0.189405</td>\n",
       "      <td>0.437273</td>\n",
       "      <td>0.248309</td>\n",
       "      <td>1</td>\n",
       "    </tr>\n",
       "    <tr>\n",
       "      <th>3</th>\n",
       "      <td>4</td>\n",
       "      <td>1</td>\n",
       "      <td>0</td>\n",
       "      <td>1</td>\n",
       "      <td>0</td>\n",
       "      <td>2</td>\n",
       "      <td>1</td>\n",
       "      <td>1</td>\n",
       "      <td>0.200000</td>\n",
       "      <td>0.212122</td>\n",
       "      <td>0.590435</td>\n",
       "      <td>0.160296</td>\n",
       "      <td>1</td>\n",
       "    </tr>\n",
       "    <tr>\n",
       "      <th>4</th>\n",
       "      <td>5</td>\n",
       "      <td>1</td>\n",
       "      <td>0</td>\n",
       "      <td>1</td>\n",
       "      <td>0</td>\n",
       "      <td>3</td>\n",
       "      <td>1</td>\n",
       "      <td>1</td>\n",
       "      <td>0.226957</td>\n",
       "      <td>0.229270</td>\n",
       "      <td>0.436957</td>\n",
       "      <td>0.186900</td>\n",
       "      <td>1</td>\n",
       "    </tr>\n",
       "  </tbody>\n",
       "</table>\n",
       "</div>"
      ],
      "text/plain": [
       "   dayofmonth  season  year  month  is_holiday  weekday  is_workingday  \\\n",
       "0           1       1     0      1           0        6              0   \n",
       "1           2       1     0      1           0        0              0   \n",
       "2           3       1     0      1           0        1              1   \n",
       "3           4       1     0      1           0        2              1   \n",
       "4           5       1     0      1           0        3              1   \n",
       "\n",
       "   weather_condition      temp     atemp  humidity  windspeed  success  \n",
       "0                  2  0.344167  0.363625  0.805833   0.160446        0  \n",
       "1                  2  0.363478  0.353739  0.696087   0.248539        0  \n",
       "2                  1  0.196364  0.189405  0.437273   0.248309        1  \n",
       "3                  1  0.200000  0.212122  0.590435   0.160296        1  \n",
       "4                  1  0.226957  0.229270  0.436957   0.186900        1  "
      ]
     },
     "execution_count": 140,
     "metadata": {},
     "output_type": "execute_result"
    }
   ],
   "source": [
    "dayofmonth=(data[\"dteday\"].str.slice(8,10)).astype(int)\n",
    "data[\"dteday\"]=dayofmonth\n",
    "data.rename(columns={\"dteday\":\"dayofmonth\"},inplace=True)\n",
    "data.drop(columns=\"instant\",inplace=True)\n",
    "data.head()"
   ]
  },
  {
   "cell_type": "markdown",
   "metadata": {},
   "source": [
    "&nbsp;&nbsp;&nbsp;&nbsp;Looks fine now, we can proceed to further analyze the data."
   ]
  },
  {
   "cell_type": "markdown",
   "metadata": {},
   "source": [
    "## 3.5. Distribution of categorical variables<a name=\"distcat\"></a>"
   ]
  },
  {
   "cell_type": "markdown",
   "metadata": {},
   "source": [
    "&nbsp;&nbsp;&nbsp;&nbsp;I will quickly see the distribution of categorical variables using basic descriptive statistics and bar plots."
   ]
  },
  {
   "cell_type": "code",
   "execution_count": 141,
   "metadata": {
    "scrolled": false
   },
   "outputs": [],
   "source": [
    "#List of all categorical columns\n",
    "cat=[\"dayofmonth\", \"season\",\"year\",\"month\",\"is_holiday\",\"weekday\",\"is_workingday\",\"weather_condition\",\"success\"]"
   ]
  },
  {
   "cell_type": "code",
   "execution_count": 142,
   "metadata": {
    "scrolled": false
   },
   "outputs": [
    {
     "data": {
      "text/html": [
       "<div>\n",
       "<style scoped>\n",
       "    .dataframe tbody tr th:only-of-type {\n",
       "        vertical-align: middle;\n",
       "    }\n",
       "\n",
       "    .dataframe tbody tr th {\n",
       "        vertical-align: top;\n",
       "    }\n",
       "\n",
       "    .dataframe thead th {\n",
       "        text-align: right;\n",
       "    }\n",
       "</style>\n",
       "<table border=\"1\" class=\"dataframe\">\n",
       "  <thead>\n",
       "    <tr style=\"text-align: right;\">\n",
       "      <th></th>\n",
       "      <th>dayofmonth</th>\n",
       "      <th>season</th>\n",
       "      <th>year</th>\n",
       "      <th>month</th>\n",
       "      <th>is_holiday</th>\n",
       "      <th>weekday</th>\n",
       "      <th>is_workingday</th>\n",
       "      <th>weather_condition</th>\n",
       "      <th>success</th>\n",
       "    </tr>\n",
       "  </thead>\n",
       "  <tbody>\n",
       "    <tr>\n",
       "      <th>count</th>\n",
       "      <td>731</td>\n",
       "      <td>731</td>\n",
       "      <td>731</td>\n",
       "      <td>731</td>\n",
       "      <td>731</td>\n",
       "      <td>731</td>\n",
       "      <td>731</td>\n",
       "      <td>731</td>\n",
       "      <td>731</td>\n",
       "    </tr>\n",
       "    <tr>\n",
       "      <th>unique</th>\n",
       "      <td>31</td>\n",
       "      <td>4</td>\n",
       "      <td>2</td>\n",
       "      <td>12</td>\n",
       "      <td>2</td>\n",
       "      <td>7</td>\n",
       "      <td>2</td>\n",
       "      <td>3</td>\n",
       "      <td>2</td>\n",
       "    </tr>\n",
       "    <tr>\n",
       "      <th>top</th>\n",
       "      <td>1</td>\n",
       "      <td>3</td>\n",
       "      <td>1</td>\n",
       "      <td>1</td>\n",
       "      <td>0</td>\n",
       "      <td>0</td>\n",
       "      <td>1</td>\n",
       "      <td>1</td>\n",
       "      <td>1</td>\n",
       "    </tr>\n",
       "    <tr>\n",
       "      <th>freq</th>\n",
       "      <td>24</td>\n",
       "      <td>188</td>\n",
       "      <td>366</td>\n",
       "      <td>62</td>\n",
       "      <td>710</td>\n",
       "      <td>105</td>\n",
       "      <td>500</td>\n",
       "      <td>463</td>\n",
       "      <td>424</td>\n",
       "    </tr>\n",
       "  </tbody>\n",
       "</table>\n",
       "</div>"
      ],
      "text/plain": [
       "        dayofmonth  season  year  month  is_holiday  weekday  is_workingday  \\\n",
       "count          731     731   731    731         731      731            731   \n",
       "unique          31       4     2     12           2        7              2   \n",
       "top              1       3     1      1           0        0              1   \n",
       "freq            24     188   366     62         710      105            500   \n",
       "\n",
       "        weather_condition  success  \n",
       "count                 731      731  \n",
       "unique                  3        2  \n",
       "top                     1        1  \n",
       "freq                  463      424  "
      ]
     },
     "execution_count": 142,
     "metadata": {},
     "output_type": "execute_result"
    }
   ],
   "source": [
    "data[cat].astype(\"category\").describe() "
   ]
  },
  {
   "cell_type": "code",
   "execution_count": 143,
   "metadata": {
    "scrolled": false
   },
   "outputs": [
    {
     "data": {
      "image/png": "[encoded data removed]",
      "text/plain": [
       "<Figure size 1008x720 with 9 Axes>"
      ]
     },
     "metadata": {},
     "output_type": "display_data"
    }
   ],
   "source": [
    "fig, axes =plt.subplots(3,3,figsize=(14,10))\n",
    "axes = axes.flatten()\n",
    "fig.suptitle('Distribution of categorical variables')\n",
    "\n",
    "for ax, catplot in zip(axes, data[cat].columns):\n",
    "    sns.countplot(x=catplot, data=data[cat], ax=ax)\n",
    "\n",
    "plt.tight_layout()  \n",
    "plt.show()"
   ]
  },
  {
   "cell_type": "markdown",
   "metadata": {},
   "source": [
    "&nbsp;&nbsp;&nbsp;&nbsp;This all looks pretty logical and reasonable, most of the data is evenly distributed. \n",
    "\n",
    "- \"dayofmonth\" - it is logical that there are fewer total days like 31. in 2 whole years\n",
    "\n",
    "- \"is_holiday\" - it is heavily skewed toward non-holiday since there are many more days which are non-holiday than holiday\n",
    "\n",
    "- \"is_workingday\" - same logic as above, there are more working days than non-working, so it is ok\n",
    "\n",
    "- \"weather_condition\" - there are many more days with fine weather than with bad, logical for Washington DC weather data"
   ]
  },
  {
   "cell_type": "markdown",
   "metadata": {},
   "source": [
    "## 3.6. Distribution of continuous variables<a name=\"distcont\"></a>"
   ]
  },
  {
   "cell_type": "markdown",
   "metadata": {},
   "source": [
    "&nbsp;&nbsp;&nbsp;&nbsp;I will check the distribution of continuous variables using basic descriptive statistics, boxplots and histograms."
   ]
  },
  {
   "cell_type": "code",
   "execution_count": 144,
   "metadata": {
    "scrolled": false
   },
   "outputs": [
    {
     "data": {
      "text/html": [
       "<div>\n",
       "<style scoped>\n",
       "    .dataframe tbody tr th:only-of-type {\n",
       "        vertical-align: middle;\n",
       "    }\n",
       "\n",
       "    .dataframe tbody tr th {\n",
       "        vertical-align: top;\n",
       "    }\n",
       "\n",
       "    .dataframe thead th {\n",
       "        text-align: right;\n",
       "    }\n",
       "</style>\n",
       "<table border=\"1\" class=\"dataframe\">\n",
       "  <thead>\n",
       "    <tr style=\"text-align: right;\">\n",
       "      <th></th>\n",
       "      <th>temp</th>\n",
       "      <th>atemp</th>\n",
       "      <th>humidity</th>\n",
       "      <th>windspeed</th>\n",
       "    </tr>\n",
       "  </thead>\n",
       "  <tbody>\n",
       "    <tr>\n",
       "      <th>count</th>\n",
       "      <td>731.000000</td>\n",
       "      <td>731.000000</td>\n",
       "      <td>731.000000</td>\n",
       "      <td>731.000000</td>\n",
       "    </tr>\n",
       "    <tr>\n",
       "      <th>mean</th>\n",
       "      <td>0.495385</td>\n",
       "      <td>0.474354</td>\n",
       "      <td>0.627894</td>\n",
       "      <td>0.190486</td>\n",
       "    </tr>\n",
       "    <tr>\n",
       "      <th>std</th>\n",
       "      <td>0.183051</td>\n",
       "      <td>0.162961</td>\n",
       "      <td>0.142429</td>\n",
       "      <td>0.077498</td>\n",
       "    </tr>\n",
       "    <tr>\n",
       "      <th>min</th>\n",
       "      <td>0.059130</td>\n",
       "      <td>0.079070</td>\n",
       "      <td>0.000000</td>\n",
       "      <td>0.022392</td>\n",
       "    </tr>\n",
       "    <tr>\n",
       "      <th>25%</th>\n",
       "      <td>0.337083</td>\n",
       "      <td>0.337842</td>\n",
       "      <td>0.520000</td>\n",
       "      <td>0.134950</td>\n",
       "    </tr>\n",
       "    <tr>\n",
       "      <th>50%</th>\n",
       "      <td>0.498333</td>\n",
       "      <td>0.486733</td>\n",
       "      <td>0.626667</td>\n",
       "      <td>0.180975</td>\n",
       "    </tr>\n",
       "    <tr>\n",
       "      <th>75%</th>\n",
       "      <td>0.655417</td>\n",
       "      <td>0.608602</td>\n",
       "      <td>0.730209</td>\n",
       "      <td>0.233214</td>\n",
       "    </tr>\n",
       "    <tr>\n",
       "      <th>max</th>\n",
       "      <td>0.861667</td>\n",
       "      <td>0.840896</td>\n",
       "      <td>0.972500</td>\n",
       "      <td>0.507463</td>\n",
       "    </tr>\n",
       "  </tbody>\n",
       "</table>\n",
       "</div>"
      ],
      "text/plain": [
       "             temp       atemp    humidity   windspeed\n",
       "count  731.000000  731.000000  731.000000  731.000000\n",
       "mean     0.495385    0.474354    0.627894    0.190486\n",
       "std      0.183051    0.162961    0.142429    0.077498\n",
       "min      0.059130    0.079070    0.000000    0.022392\n",
       "25%      0.337083    0.337842    0.520000    0.134950\n",
       "50%      0.498333    0.486733    0.626667    0.180975\n",
       "75%      0.655417    0.608602    0.730209    0.233214\n",
       "max      0.861667    0.840896    0.972500    0.507463"
      ]
     },
     "execution_count": 144,
     "metadata": {},
     "output_type": "execute_result"
    }
   ],
   "source": [
    "data.drop(columns=cat).describe()"
   ]
  },
  {
   "cell_type": "code",
   "execution_count": 145,
   "metadata": {
    "scrolled": false
   },
   "outputs": [
    {
     "data": {
      "image/png": "[encoded data removed]",
      "text/plain": [
       "<Figure size 1080x720 with 1 Axes>"
      ]
     },
     "metadata": {},
     "output_type": "display_data"
    }
   ],
   "source": [
    "data.drop(columns=cat).boxplot(figsize=(15,10))\n",
    "plt.show()"
   ]
  },
  {
   "cell_type": "markdown",
   "metadata": {},
   "source": [
    "&nbsp;&nbsp;&nbsp;&nbsp;We can see there are some outliers in \"humidity\" and \"windspeed\" variables. I will deal with them later on."
   ]
  },
  {
   "cell_type": "code",
   "execution_count": 146,
   "metadata": {
    "scrolled": false
   },
   "outputs": [
    {
     "data": {
      "image/png": "[encoded data removed]",
      "text/plain": [
       "<Figure size 1008x720 with 4 Axes>"
      ]
     },
     "metadata": {},
     "output_type": "display_data"
    }
   ],
   "source": [
    "fig, axes =plt.subplots(2,2,figsize=(14,10))\n",
    "axes = axes.flatten()\n",
    "fig.suptitle('Distribution of continuous variables')\n",
    "\n",
    "for ax, col in zip(axes, data.drop(columns=cat).columns):\n",
    "    sns.histplot(x=col, data=data.drop(columns=cat), ax=ax, kde=True, ec=\"black\", bins=15)\n",
    "\n",
    "plt.tight_layout()  \n",
    "plt.show()"
   ]
  },
  {
   "cell_type": "markdown",
   "metadata": {},
   "source": [
    "&nbsp;&nbsp;&nbsp;&nbsp;Humidity and windspeed distributions look pretty good, except the aforementioned outliers, so they are skewed a bit. They are distributed in a bell-like shaped curve which indicates approximately normal distribution. It is interesting that temperature and \"feels like\" temperature (temp and atemp) aren't approximately normally distributed, and they show some kind of bimodal distribution. I suspect that is because of the seasonal character of temperature. Let's check that out."
   ]
  },
  {
   "cell_type": "code",
   "execution_count": 147,
   "metadata": {
    "scrolled": true
   },
   "outputs": [
    {
     "data": {
      "text/plain": [
       "array([1, 2, 3, 4], dtype=int64)"
      ]
     },
     "execution_count": 147,
     "metadata": {},
     "output_type": "execute_result"
    }
   ],
   "source": [
    "data[\"season\"].unique()"
   ]
  },
  {
   "cell_type": "code",
   "execution_count": 148,
   "metadata": {
    "scrolled": false
   },
   "outputs": [
    {
     "data": {
      "image/png": "[encoded data removed]",
      "text/plain": [
       "<Figure size 1008x720 with 4 Axes>"
      ]
     },
     "metadata": {},
     "output_type": "display_data"
    }
   ],
   "source": [
    "season_dict = {1:\"winter\", 2:\"spring\", 3:\"summer\", 4:\"fall\"}\n",
    "fig, axes =plt.subplots(2,2,figsize=(14,10))\n",
    "axes = axes.flatten()\n",
    "fig.suptitle('Distribution of temp per season')\n",
    "\n",
    "for ax, i in zip(axes, data[\"season\"].unique()):\n",
    "    sns.histplot(data=data.drop(columns=cat)[\"temp\"][data[\"season\"]==i], ax=ax, kde=True,color=\"red\",\n",
    "                 ec=\"black\",bins=15).set_title(season_dict[i])\n",
    "\n",
    "plt.tight_layout()  \n",
    "plt.show()"
   ]
  },
  {
   "cell_type": "code",
   "execution_count": 149,
   "metadata": {
    "scrolled": false
   },
   "outputs": [
    {
     "data": {
      "image/png": "[encoded data removed]",
      "text/plain": [
       "<Figure size 1008x720 with 4 Axes>"
      ]
     },
     "metadata": {},
     "output_type": "display_data"
    }
   ],
   "source": [
    "fig, axes =plt.subplots(2,2,figsize=(14,10))\n",
    "axes = axes.flatten()\n",
    "fig.suptitle('Distribution of atemp per season')\n",
    "\n",
    "for ax, i in zip(axes, data[\"season\"].unique()):\n",
    "    sns.histplot(data=data.drop(columns=cat)[\"atemp\"][data[\"season\"]==i], ax=ax, kde=True,\n",
    "                 color=\"red\",ec=\"black\",bins=15).set_title(season_dict[i])\n",
    "\n",
    "plt.tight_layout()  \n",
    "plt.show()"
   ]
  },
  {
   "cell_type": "markdown",
   "metadata": {},
   "source": [
    "&nbsp;&nbsp;&nbsp;&nbsp;I was right somewhat, these graphs look much better, for all seasons except fall values are unimodally normal-like distributed. The distribution of values in fall is some kind of logical because of the nature of that season."
   ]
  },
  {
   "cell_type": "markdown",
   "metadata": {},
   "source": [
    "## 3.7. Outlier detection and treatment <a name=\"outlier\"></a>"
   ]
  },
  {
   "cell_type": "markdown",
   "metadata": {},
   "source": [
    "&nbsp;&nbsp;&nbsp;&nbsp;I will check for outliers in continuous variables using IQR method, all values out of (-1.5IQR ,1.5IQR) range are considered outliers."
   ]
  },
  {
   "cell_type": "code",
   "execution_count": 150,
   "metadata": {
    "scrolled": true
   },
   "outputs": [
    {
     "name": "stdout",
     "output_type": "stream",
     "text": [
      "Percentage of the rows containing outliers is : 1.92 %\n",
      "Columns containing outliers are : ['humidity', 'windspeed']\n"
     ]
    }
   ],
   "source": [
    "#Detecting outliers and columns which contain them\n",
    "data2=data.copy()\n",
    "list=[]\n",
    "for col in data2.drop(columns=cat).columns:\n",
    "    Q1 = data2[col].quantile(0.25)\n",
    "    Q3 = data2[col].quantile(0.75)\n",
    "    IQR = Q3 - Q1\n",
    "    if ((data2[col] < (Q1 - 1.5 * IQR)) |(data2[col] > (Q3 + 1.5 * IQR))).any():\n",
    "        list.append(col)\n",
    "    data2 = data2[~((data2[col] < (Q1 - 1.5 * IQR)) |(data2[col] > (Q3 + 1.5 * IQR)))]\n",
    "    \n",
    "#Percentage of outliers - difference between rows size of original and cleared df   \n",
    "print(\"Percentage of the rows containing outliers is :\",round((1-(data2.shape[0]/data.shape[0]))*100,2,),\"%\")\n",
    "print(\"Columns containing outliers are :\",list)"
   ]
  },
  {
   "cell_type": "markdown",
   "metadata": {},
   "source": [
    "&nbsp;&nbsp;&nbsp;&nbsp;Since there are only 1.92 % of rows containing outliers I will use a custom function to cap these outliers to the closest existing value within threshold (IQR)."
   ]
  },
  {
   "cell_type": "code",
   "execution_count": 151,
   "metadata": {
    "scrolled": true
   },
   "outputs": [],
   "source": [
    "#Function for capping outliers found on stackoverflow.com, modified a bit for my own use\n",
    "def cap_outliers(series, iqr_threshold=1.5):\n",
    "    '''Caps outliers to closest existing value within threshold (IQR).'''\n",
    "    Q1 = series.quantile(0.25)\n",
    "    Q3 = series.quantile(0.75)\n",
    "    IQR = Q3 - Q1\n",
    "\n",
    "    lbound = Q1 - iqr_threshold * IQR\n",
    "    ubound = Q3 + iqr_threshold * IQR\n",
    "\n",
    "    outliers = (series < lbound) | (series > ubound)\n",
    "\n",
    "    series = series.copy()\n",
    "    series.loc[series < lbound] = series.loc[~outliers].min()\n",
    "    series.loc[series > ubound] = series.loc[~outliers].max()\n",
    "\n",
    "    return series"
   ]
  },
  {
   "cell_type": "code",
   "execution_count": 152,
   "metadata": {
    "scrolled": true
   },
   "outputs": [],
   "source": [
    "data[\"humidity\"]=cap_outliers(data[\"humidity\"])\n",
    "data[\"windspeed\"]=cap_outliers(data[\"windspeed\"])"
   ]
  },
  {
   "cell_type": "code",
   "execution_count": 153,
   "metadata": {
    "scrolled": false
   },
   "outputs": [
    {
     "data": {
      "image/png": "[encoded data removed]",
      "text/plain": [
       "<Figure size 1080x720 with 1 Axes>"
      ]
     },
     "metadata": {},
     "output_type": "display_data"
    }
   ],
   "source": [
    "data.drop(columns=cat).boxplot(figsize=(15,10))\n",
    "plt.show()"
   ]
  },
  {
   "cell_type": "markdown",
   "metadata": {},
   "source": [
    "&nbsp;&nbsp;&nbsp;&nbsp;**The conclusion:** This looks much better now; I can proceed to univariate analysis. Initial data was pretty \"clean\", there weren't any missing values, outliers were present in just 2 columns and affected less than 2% of rows. Only problem I had with this dataset was that I had to derive the target variable since this projects goal is to develop binary classification model."
   ]
  },
  {
   "cell_type": "markdown",
   "metadata": {},
   "source": [
    "# 4. Univariate analysis<a name=\"ua\"></a>"
   ]
  },
  {
   "cell_type": "markdown",
   "metadata": {},
   "source": [
    "## 4.1. WoE, IV for each variable<a name=\"woeiv\"></a>"
   ]
  },
  {
   "cell_type": "markdown",
   "metadata": {},
   "source": [
    "&nbsp;&nbsp;&nbsp;&nbsp;I will use the Weight of Evidence and Information Value measures to select the attributes to use as predictors.\n",
    "\n",
    "\n",
    "**Weight of Evidence**\n",
    "\n",
    "$$ \\Large WoE = [ln(\\frac{\\text{Relative frequency of Goods}}{\\text{Relative frequency of Bads}})] * 100 $$\n",
    "\n",
    "\n",
    "**Information Value**\n",
    "\n",
    "$$ \\large IV = \\sum(DistributionGood_{i} - DistributionBad_{i}) * WoE_{i} $$\n"
   ]
  },
  {
   "cell_type": "markdown",
   "metadata": {},
   "source": [
    "**Prerequisites for WoE i IV:**\n",
    "1. The sample should not contain any missing values.\n",
    "\n",
    "2. The sample should not contain any continuous attributes. Continuous attributes should be binned into 5–10 bins, upon your liking. Just make sure that each bin has at least 5% of the observations.\n",
    "\n",
    "\n",
    "&nbsp;&nbsp;&nbsp;&nbsp;Since the data doesn't contain any missing values, I will proceed with binning (\"fine classing\") of the continuous variables."
   ]
  },
  {
   "cell_type": "code",
   "execution_count": 154,
   "metadata": {
    "scrolled": true
   },
   "outputs": [
    {
     "data": {
      "text/plain": [
       "Index(['temp', 'atemp', 'humidity', 'windspeed'], dtype='object')"
      ]
     },
     "execution_count": 154,
     "metadata": {},
     "output_type": "execute_result"
    }
   ],
   "source": [
    "data.drop(columns=cat).columns"
   ]
  },
  {
   "cell_type": "code",
   "execution_count": 155,
   "metadata": {
    "scrolled": false
   },
   "outputs": [
    {
     "data": {
      "text/html": [
       "<div>\n",
       "<style scoped>\n",
       "    .dataframe tbody tr th:only-of-type {\n",
       "        vertical-align: middle;\n",
       "    }\n",
       "\n",
       "    .dataframe tbody tr th {\n",
       "        vertical-align: top;\n",
       "    }\n",
       "\n",
       "    .dataframe thead th {\n",
       "        text-align: right;\n",
       "    }\n",
       "</style>\n",
       "<table border=\"1\" class=\"dataframe\">\n",
       "  <thead>\n",
       "    <tr style=\"text-align: right;\">\n",
       "      <th></th>\n",
       "      <th>dayofmonth</th>\n",
       "      <th>season</th>\n",
       "      <th>year</th>\n",
       "      <th>month</th>\n",
       "      <th>is_holiday</th>\n",
       "      <th>weekday</th>\n",
       "      <th>is_workingday</th>\n",
       "      <th>weather_condition</th>\n",
       "      <th>success</th>\n",
       "      <th>temp_Bins</th>\n",
       "      <th>atemp_Bins</th>\n",
       "      <th>humidity_Bins</th>\n",
       "      <th>windspeed_Bins</th>\n",
       "    </tr>\n",
       "  </thead>\n",
       "  <tbody>\n",
       "    <tr>\n",
       "      <th>0</th>\n",
       "      <td>1</td>\n",
       "      <td>1</td>\n",
       "      <td>0</td>\n",
       "      <td>1</td>\n",
       "      <td>0</td>\n",
       "      <td>6</td>\n",
       "      <td>0</td>\n",
       "      <td>2</td>\n",
       "      <td>0</td>\n",
       "      <td>(0.316, 0.365]</td>\n",
       "      <td>(0.311, 0.364]</td>\n",
       "      <td>(0.753, 0.818]</td>\n",
       "      <td>(0.143, 0.164]</td>\n",
       "    </tr>\n",
       "    <tr>\n",
       "      <th>1</th>\n",
       "      <td>2</td>\n",
       "      <td>1</td>\n",
       "      <td>0</td>\n",
       "      <td>1</td>\n",
       "      <td>0</td>\n",
       "      <td>0</td>\n",
       "      <td>0</td>\n",
       "      <td>2</td>\n",
       "      <td>0</td>\n",
       "      <td>(0.316, 0.365]</td>\n",
       "      <td>(0.311, 0.364]</td>\n",
       "      <td>(0.669, 0.708]</td>\n",
       "      <td>(0.248, 0.296]</td>\n",
       "    </tr>\n",
       "    <tr>\n",
       "      <th>2</th>\n",
       "      <td>3</td>\n",
       "      <td>1</td>\n",
       "      <td>0</td>\n",
       "      <td>1</td>\n",
       "      <td>0</td>\n",
       "      <td>1</td>\n",
       "      <td>1</td>\n",
       "      <td>1</td>\n",
       "      <td>1</td>\n",
       "      <td>(0.0581, 0.26]</td>\n",
       "      <td>(0.0781, 0.255]</td>\n",
       "      <td>(0.253, 0.45]</td>\n",
       "      <td>(0.223, 0.248]</td>\n",
       "    </tr>\n",
       "    <tr>\n",
       "      <th>3</th>\n",
       "      <td>4</td>\n",
       "      <td>1</td>\n",
       "      <td>0</td>\n",
       "      <td>1</td>\n",
       "      <td>0</td>\n",
       "      <td>2</td>\n",
       "      <td>1</td>\n",
       "      <td>1</td>\n",
       "      <td>1</td>\n",
       "      <td>(0.0581, 0.26]</td>\n",
       "      <td>(0.0781, 0.255]</td>\n",
       "      <td>(0.585, 0.627]</td>\n",
       "      <td>(0.143, 0.164]</td>\n",
       "    </tr>\n",
       "    <tr>\n",
       "      <th>4</th>\n",
       "      <td>5</td>\n",
       "      <td>1</td>\n",
       "      <td>0</td>\n",
       "      <td>1</td>\n",
       "      <td>0</td>\n",
       "      <td>3</td>\n",
       "      <td>1</td>\n",
       "      <td>1</td>\n",
       "      <td>1</td>\n",
       "      <td>(0.0581, 0.26]</td>\n",
       "      <td>(0.0781, 0.255]</td>\n",
       "      <td>(0.253, 0.45]</td>\n",
       "      <td>(0.181, 0.2]</td>\n",
       "    </tr>\n",
       "  </tbody>\n",
       "</table>\n",
       "</div>"
      ],
      "text/plain": [
       "   dayofmonth  season  year  month  is_holiday  weekday  is_workingday  \\\n",
       "0           1       1     0      1           0        6              0   \n",
       "1           2       1     0      1           0        0              0   \n",
       "2           3       1     0      1           0        1              1   \n",
       "3           4       1     0      1           0        2              1   \n",
       "4           5       1     0      1           0        3              1   \n",
       "\n",
       "   weather_condition  success       temp_Bins       atemp_Bins  \\\n",
       "0                  2        0  (0.316, 0.365]   (0.311, 0.364]   \n",
       "1                  2        0  (0.316, 0.365]   (0.311, 0.364]   \n",
       "2                  1        1  (0.0581, 0.26]  (0.0781, 0.255]   \n",
       "3                  1        1  (0.0581, 0.26]  (0.0781, 0.255]   \n",
       "4                  1        1  (0.0581, 0.26]  (0.0781, 0.255]   \n",
       "\n",
       "    humidity_Bins  windspeed_Bins  \n",
       "0  (0.753, 0.818]  (0.143, 0.164]  \n",
       "1  (0.669, 0.708]  (0.248, 0.296]  \n",
       "2   (0.253, 0.45]  (0.223, 0.248]  \n",
       "3  (0.585, 0.627]  (0.143, 0.164]  \n",
       "4   (0.253, 0.45]    (0.181, 0.2]  "
      ]
     },
     "execution_count": 155,
     "metadata": {},
     "output_type": "execute_result"
    }
   ],
   "source": [
    "#Creating binned variables and dropping original ones\n",
    "data_binned=data.copy()\n",
    "for col in data.drop(columns=cat).columns:\n",
    "    data_binned[col+'_Bins'] = pd.qcut(data_binned[col], 10) # I will cut the continuous attributes into 10 bins\n",
    "\n",
    "data_binned.drop(data.drop(columns=cat).columns, axis=1, inplace=True)\n",
    "data_binned.head()"
   ]
  },
  {
   "cell_type": "code",
   "execution_count": 156,
   "metadata": {
    "scrolled": false
   },
   "outputs": [
    {
     "name": "stdout",
     "output_type": "stream",
     "text": [
      "(0.562, 0.632]    0.102599\n",
      "(0.0581, 0.26]    0.101231\n",
      "(0.686, 0.732]    0.101231\n",
      "(0.26, 0.316]     0.099863\n",
      "(0.316, 0.365]    0.099863\n",
      "(0.365, 0.428]    0.099863\n",
      "(0.428, 0.498]    0.099863\n",
      "(0.498, 0.562]    0.099863\n",
      "(0.732, 0.862]    0.098495\n",
      "(0.632, 0.686]    0.097127\n",
      "Name: temp_Bins, dtype: float64\n",
      "(0.0781, 0.255]    0.101231\n",
      "(0.364, 0.425]     0.101231\n",
      "(0.255, 0.311]     0.099863\n",
      "(0.311, 0.364]     0.099863\n",
      "(0.487, 0.539]     0.099863\n",
      "(0.539, 0.588]     0.099863\n",
      "(0.588, 0.638]     0.099863\n",
      "(0.638, 0.678]     0.099863\n",
      "(0.678, 0.841]     0.099863\n",
      "(0.425, 0.487]     0.098495\n",
      "Name: atemp_Bins, dtype: float64\n",
      "(0.253, 0.45]     0.101231\n",
      "(0.708, 0.753]    0.101231\n",
      "(0.45, 0.5]       0.099863\n",
      "(0.5, 0.542]      0.099863\n",
      "(0.542, 0.585]    0.099863\n",
      "(0.585, 0.627]    0.099863\n",
      "(0.627, 0.669]    0.099863\n",
      "(0.669, 0.708]    0.099863\n",
      "(0.818, 0.972]    0.099863\n",
      "(0.753, 0.818]    0.098495\n",
      "Name: humidity_Bins, dtype: float64\n",
      "(0.0214, 0.1]     0.101231\n",
      "(0.164, 0.181]    0.101231\n",
      "(0.1, 0.125]      0.099863\n",
      "(0.125, 0.143]    0.099863\n",
      "(0.143, 0.164]    0.099863\n",
      "(0.2, 0.223]      0.099863\n",
      "(0.223, 0.248]    0.099863\n",
      "(0.248, 0.296]    0.099863\n",
      "(0.296, 0.378]    0.099863\n",
      "(0.181, 0.2]      0.098495\n",
      "Name: windspeed_Bins, dtype: float64\n"
     ]
    }
   ],
   "source": [
    "#Checking percentage of the observations in each bin - should be ok since I used qcut, but just to be sure\n",
    "for col in data.drop(columns=cat).columns:\n",
    "    print(data_binned[col+\"_Bins\"].value_counts(normalize=True))"
   ]
  },
  {
   "cell_type": "markdown",
   "metadata": {},
   "source": [
    "&nbsp;&nbsp;&nbsp;&nbsp;Each bin has at least 5% of the observations. Since now I have fulfilled all the prerequisites, I can proceed to calculation of WoE and IV."
   ]
  },
  {
   "cell_type": "markdown",
   "metadata": {},
   "source": [
    "&nbsp;&nbsp;&nbsp;&nbsp;As the target variable, I will use earlier derived success variable.\n",
    "\n",
    "Defining \"Good\" - \"success\" and \"Bad\" - \"non-success\" in that variable:\n",
    "- \"Good\" - \"success\" (1) - total count of riders for that day was higher than mean for that month\n",
    "- \"Bad\" - \"non-success\" (0) - total count of riders for that day was not higher than mean for that month"
   ]
  },
  {
   "cell_type": "markdown",
   "metadata": {},
   "source": [
    "&nbsp;&nbsp;&nbsp;&nbsp;I need to define a custom function which will calculate WoE and IV. The function will calculate Information Value of selected attribute by some target variable (in my case \"success\"). Then it will return:\n",
    "- DataFrame object (gives more detailed insight into predictive power)\n",
    "- Sum of IV value for that attribute"
   ]
  },
  {
   "cell_type": "code",
   "execution_count": 157,
   "metadata": {
    "scrolled": false
   },
   "outputs": [],
   "source": [
    "#Function for WoE and IV calculation,found on the internet, I modded it a fair bit, credit to the original author: Dario Radečić\n",
    "def calculate_woe_iv(dataset, feature, target):\n",
    "    lst = []\n",
    "    for i in range(dataset[feature].nunique()):\n",
    "        val = dataset[feature].unique().tolist()[i]\n",
    "        good = dataset[(dataset[feature] == val) & (dataset[target] == 1)].count()[feature]\n",
    "        bad = dataset[(dataset[feature] == val) & (dataset[target] == 0)].count()[feature]\n",
    "        if (good==0) | (bad==0): \n",
    "            good+=0.5\n",
    "            bad+=0.5\n",
    "        #If particular bin contains no event or no non-event, we add 0.5, to make WoE calculable\n",
    "        #AdjustedWOE = ln (((Number of NE in a group + 0.5) / Number of NE)) / ((Number of E in a group + 0.5) / Number of E))\n",
    "        lst.append({\n",
    "            'Value': val,\n",
    "            'All': dataset[dataset[feature] == val].count()[feature],\n",
    "            'Good': good,\n",
    "            'Bad': bad\n",
    "        })\n",
    "        \n",
    "    dset = pd.DataFrame(lst)\n",
    "\n",
    "    \n",
    "    dset['Distr_Good'] = dset['Good'] / dset['Good'].sum()\n",
    "    dset['Distr_Bad'] = dset['Bad'] / dset['Bad'].sum()\n",
    "    dset['WoE'] = np.log(dset['Distr_Good'] / dset['Distr_Bad'])\n",
    "    dset['IV'] = (dset['Distr_Good'] - dset['Distr_Bad']) * dset['WoE']\n",
    "    iv = dset['IV'].sum()\n",
    "    dset = dset.sort_values(by='Value')\n",
    "    \n",
    "    return dset, iv"
   ]
  },
  {
   "cell_type": "code",
   "execution_count": 158,
   "metadata": {
    "scrolled": false
   },
   "outputs": [
    {
     "name": "stdout",
     "output_type": "stream",
     "text": [
      "WoE and IV for column: dayofmonth\n",
      " Value  All  Good  Bad  Distr_Good  Distr_Bad       WoE       IV\n",
      "     1   24    10   14    0.023585   0.045603 -0.659358 0.014518\n",
      "     2   24    14   10    0.033019   0.032573  0.013587 0.000006\n",
      "     3   24    17    7    0.040094   0.022801  0.564417 0.009760\n",
      "     4   24    14   10    0.033019   0.032573  0.013587 0.000006\n",
      "     5   24    16    8    0.037736   0.026059  0.370261 0.004324\n",
      "     6   24    14   10    0.033019   0.032573  0.013587 0.000006\n",
      "     7   24    13   11    0.030660   0.035831 -0.155832 0.000806\n",
      "     8   24    10   14    0.023585   0.045603 -0.659358 0.014518\n",
      "     9   24    11   13    0.025943   0.042345 -0.489940 0.008036\n",
      "    10   24    15    9    0.035377   0.029316  0.187940 0.001139\n",
      "    11   24    13   11    0.030660   0.035831 -0.155832 0.000806\n",
      "    12   24    13   11    0.030660   0.035831 -0.155832 0.000806\n",
      "    13   24    14   10    0.033019   0.032573  0.013587 0.000006\n",
      "    14   24    17    7    0.040094   0.022801  0.564417 0.009760\n",
      "    15   24    16    8    0.037736   0.026059  0.370261 0.004324\n",
      "    16   24    15    9    0.035377   0.029316  0.187940 0.001139\n",
      "    17   24    18    6    0.042453   0.019544  0.775727 0.017771\n",
      "    18   24    13   11    0.030660   0.035831 -0.155832 0.000806\n",
      "    19   24    16    8    0.037736   0.026059  0.370261 0.004324\n",
      "    20   24    17    7    0.040094   0.022801  0.564417 0.009760\n",
      "    21   24    14   10    0.033019   0.032573  0.013587 0.000006\n",
      "    22   24    12   12    0.028302   0.039088 -0.322886 0.003483\n",
      "    23   24    13   11    0.030660   0.035831 -0.155832 0.000806\n",
      "    24   24    15    9    0.035377   0.029316  0.187940 0.001139\n",
      "    25   24    14   10    0.033019   0.032573  0.013587 0.000006\n",
      "    26   24    15    9    0.035377   0.029316  0.187940 0.001139\n",
      "    27   24    12   12    0.028302   0.039088 -0.322886 0.003483\n",
      "    28   24    11   13    0.025943   0.042345 -0.489940 0.008036\n",
      "    29   23    13   10    0.030660   0.032573 -0.060521 0.000116\n",
      "    30   22    12   10    0.028302   0.032573 -0.140564 0.000600\n",
      "    31   14     7    7    0.016509   0.022801 -0.322886 0.002032\n",
      "\t\t\t\t\t\t\tIV score: 0.12\n",
      "\n",
      "\n",
      "WoE and IV for column: season\n",
      " Value  All  Good  Bad  Distr_Good  Distr_Bad       WoE       IV\n",
      "     1  181    81  100    0.191038   0.325733 -0.533607 0.071874\n",
      "     2  184   109   75    0.257075   0.244300  0.050974 0.000651\n",
      "     3  188   112   76    0.264151   0.247557  0.064880 0.001077\n",
      "     4  178   122   56    0.287736   0.182410  0.455784 0.048006\n",
      "\t\t\t\t\t\t\tIV score: 0.12\n",
      "\n",
      "\n",
      "WoE and IV for column: year\n",
      " Value  All  Good  Bad  Distr_Good  Distr_Bad       WoE       IV\n",
      "     0  365   199  166     0.46934   0.540717 -0.141569 0.010105\n",
      "     1  366   225  141     0.53066   0.459283  0.144455 0.010311\n",
      "\t\t\t\t\t\t\tIV score: 0.02\n",
      "\n",
      "\n",
      "WoE and IV for column: month\n",
      " Value  All  Good  Bad  Distr_Good  Distr_Bad       WoE           IV\n",
      "     1   62    34   28    0.080189   0.091205 -0.128730 1.418155e-03\n",
      "     2   57    27   30    0.063679   0.097720 -0.428246 1.457777e-02\n",
      "     3   62    32   30    0.075472   0.097720 -0.258347 5.747753e-03\n",
      "     4   60    35   25    0.082547   0.081433  0.013587 1.513465e-05\n",
      "     5   62    35   27    0.082547   0.087948 -0.063375 3.422675e-04\n",
      "     6   60    38   22    0.089623   0.071661  0.223658 4.017212e-03\n",
      "     7   62    35   27    0.082547   0.087948 -0.063375 3.422675e-04\n",
      "     8   62    36   26    0.084906   0.084691  0.002537 5.456594e-07\n",
      "     9   60    40   20    0.094340   0.065147  0.370261 1.080906e-02\n",
      "    10   62    39   23    0.091981   0.074919  0.205182 3.500927e-03\n",
      "    11   60    38   22    0.089623   0.071661  0.223658 4.017212e-03\n",
      "    12   62    35   27    0.082547   0.087948 -0.063375 3.422675e-04\n",
      "\t\t\t\t\t\t\tIV score: 0.05\n",
      "\n",
      "\n",
      "WoE and IV for column: is_holiday\n",
      " Value  All  Good  Bad  Distr_Good  Distr_Bad       WoE       IV\n",
      "     0  710   419  291    0.988208   0.947883  0.041662 0.001680\n",
      "     1   21     5   16    0.011792   0.052117 -1.486037 0.059924\n",
      "\t\t\t\t\t\t\tIV score: 0.06\n",
      "\n",
      "\n",
      "WoE and IV for column: weekday\n",
      " Value  All  Good  Bad  Distr_Good  Distr_Bad       WoE       IV\n",
      "     0  105    48   57    0.113208   0.185668 -0.494736 0.035849\n",
      "     1  105    50   55    0.117925   0.179153 -0.418196 0.025606\n",
      "     2  104    63   41    0.148585   0.133550  0.106677 0.001604\n",
      "     3  104    61   43    0.143868   0.140065  0.026788 0.000102\n",
      "     4  104    73   31    0.172170   0.100977  0.533587 0.037987\n",
      "     5  104    66   38    0.155660   0.123779  0.229183 0.007307\n",
      "     6  105    63   42    0.148585   0.136808  0.082579 0.000973\n",
      "\t\t\t\t\t\t\tIV score: 0.11\n",
      "\n",
      "\n",
      "WoE and IV for column: is_workingday\n",
      " Value  All  Good  Bad  Distr_Good  Distr_Bad       WoE       IV\n",
      "     0  231   116  115    0.273585   0.374593 -0.314228 0.031739\n",
      "     1  500   308  192    0.726415   0.625407  0.149719 0.015123\n",
      "\t\t\t\t\t\t\tIV score: 0.05\n",
      "\n",
      "\n",
      "WoE and IV for column: weather_condition\n",
      " Value  All  Good   Bad  Distr_Good  Distr_Bad       WoE       IV\n",
      "     1  463 324.0 139.0    0.763251   0.452033  0.523833 0.163026\n",
      "     2  247 100.0 147.0    0.235571   0.478049 -0.707699 0.171601\n",
      "     3   21   0.5  21.5    0.001178   0.069919 -4.083637 0.280713\n",
      "\t\t\t\t\t\t\tIV score: 0.62\n",
      "\n",
      "\n",
      "WoE and IV for column: temp_Bins\n",
      "         Value  All  Good  Bad  Distr_Good  Distr_Bad       WoE       IV\n",
      "(0.0581, 0.26]   74    20   54    0.047170   0.175896 -1.316137 0.169421\n",
      " (0.26, 0.316]   73    41   32    0.096698   0.104235 -0.075050 0.000566\n",
      "(0.316, 0.365]   73    40   33    0.094340   0.107492 -0.130514 0.001717\n",
      "(0.365, 0.428]   73    40   33    0.094340   0.107492 -0.130514 0.001717\n",
      "(0.428, 0.498]   73    49   24    0.115566   0.078176  0.390881 0.014615\n",
      "(0.498, 0.562]   73    55   18    0.129717   0.058632  0.794076 0.056447\n",
      "(0.562, 0.632]   75    50   25    0.117925   0.081433  0.370261 0.013511\n",
      "(0.632, 0.686]   71    49   22    0.115566   0.071661  0.477892 0.020982\n",
      "(0.686, 0.732]   74    51   23    0.120283   0.074919  0.473446 0.021478\n",
      "(0.732, 0.862]   72    29   43    0.068396   0.140065 -0.716790 0.051372\n",
      "\t\t\t\t\t\t\tIV score: 0.35\n",
      "\n",
      "\n",
      "WoE and IV for column: atemp_Bins\n",
      "          Value  All  Good  Bad  Distr_Good  Distr_Bad       WoE       IV\n",
      "(0.0781, 0.255]   74    21   53    0.049528   0.172638 -1.248655 0.153722\n",
      " (0.255, 0.311]   73    36   37    0.084906   0.120521 -0.350285 0.012476\n",
      " (0.311, 0.364]   73    45   28    0.106132   0.091205  0.151572 0.002262\n",
      " (0.364, 0.425]   74    40   34    0.094340   0.110749 -0.160367 0.002632\n",
      " (0.425, 0.487]   72    47   25    0.110849   0.081433  0.308386 0.009071\n",
      " (0.487, 0.539]   73    53   20    0.125000   0.065147  0.651674 0.039005\n",
      " (0.539, 0.588]   73    50   23    0.117925   0.074919  0.453643 0.019509\n",
      " (0.588, 0.638]   73    54   19    0.127358   0.061889  0.721659 0.047246\n",
      " (0.638, 0.678]   73    50   23    0.117925   0.074919  0.453643 0.019509\n",
      " (0.678, 0.841]   73    28   45    0.066038   0.146580 -0.797344 0.064220\n",
      "\t\t\t\t\t\t\tIV score: 0.37\n",
      "\n",
      "\n",
      "WoE and IV for column: humidity_Bins\n",
      "         Value  All  Good  Bad  Distr_Good  Distr_Bad       WoE       IV\n",
      " (0.253, 0.45]   74    46   28    0.108491   0.091205  0.173551 0.003000\n",
      "   (0.45, 0.5]   73    48   25    0.113208   0.081433  0.329439 0.010468\n",
      "  (0.5, 0.542]   73    57   16    0.134434   0.052117  0.947577 0.078001\n",
      "(0.542, 0.585]   73    41   32    0.096698   0.104235 -0.075050 0.000566\n",
      "(0.585, 0.627]   73    53   20    0.125000   0.065147  0.651674 0.039005\n",
      "(0.627, 0.669]   73    45   28    0.106132   0.091205  0.151572 0.002262\n",
      "(0.669, 0.708]   73    48   25    0.113208   0.081433  0.329439 0.010468\n",
      "(0.708, 0.753]   74    39   35    0.091981   0.114007 -0.214672 0.004728\n",
      "(0.753, 0.818]   72    28   44    0.066038   0.143322 -0.774871 0.059886\n",
      "(0.818, 0.972]   73    19   54    0.044811   0.175896 -1.367431 0.179249\n",
      "\t\t\t\t\t\t\tIV score: 0.39\n",
      "\n",
      "\n",
      "WoE and IV for column: windspeed_Bins\n",
      "         Value  All  Good  Bad  Distr_Good  Distr_Bad       WoE       IV\n",
      " (0.0214, 0.1]   74    56   18    0.132075   0.058632  0.812094 0.059643\n",
      "  (0.1, 0.125]   73    47   26    0.110849   0.084691  0.269165 0.007041\n",
      "(0.125, 0.143]   73    40   33    0.094340   0.107492 -0.130514 0.001717\n",
      "(0.143, 0.164]   73    43   30    0.101415   0.097720  0.037117 0.000137\n",
      "(0.164, 0.181]   74    46   28    0.108491   0.091205  0.173551 0.003000\n",
      "  (0.181, 0.2]   72    45   27    0.106132   0.087948  0.187940 0.003418\n",
      "  (0.2, 0.223]   73    36   37    0.084906   0.120521 -0.350285 0.012476\n",
      "(0.223, 0.248]   73    39   34    0.091981   0.110749 -0.185685 0.003485\n",
      "(0.248, 0.296]   73    41   32    0.096698   0.104235 -0.075050 0.000566\n",
      "(0.296, 0.378]   73    31   42    0.073113   0.136808 -0.626568 0.039909\n",
      "\t\t\t\t\t\t\tIV score: 0.13\n",
      "\n",
      "\n"
     ]
    }
   ],
   "source": [
    "for col in data_binned.columns[data_binned.columns!=\"success\"]:# skip success as that is target variable column\n",
    "        print('WoE and IV for column:',col)\n",
    "        df, iv = calculate_woe_iv(data_binned, col, 'success')\n",
    "        print(df.to_string(index=False))\n",
    "        print('\\t\\t\\t\\t\\t\\t\\tIV score: {:.2f}'.format(iv))\n",
    "        print('\\n')"
   ]
  },
  {
   "cell_type": "markdown",
   "metadata": {},
   "source": [
    "## 4.2. Selection of most predictive variables<a name=\"select\"></a>"
   ]
  },
  {
   "cell_type": "markdown",
   "metadata": {},
   "source": [
    "<p style=\"text-align:center;\">IV score interpretation:</p>\n",
    "\n",
    "| Information Value | Predictive Power |\n",
    "| --- | --- |\n",
    "| < 0.02 | Useless for Prediction |\n",
    "| 0.02 - 0.1 | Weak Predictor |\n",
    "| 0.1 - 0.3 | Medium Predictor |\n",
    "| 0.3 - 0.5 | Strong Predictor |\n",
    "| > 0.5 | Suspicious or too good to be true |\n",
    "\n",
    "\n",
    "By evaluating results with this table we can conclude:\n",
    "+ Weak Predictors: \n",
    "    - \"year\" (IV: 0.02)\n",
    "    - \"month\" (IV: 0.05)\n",
    "    - \"is_workingday\" (IV: 0.05)\n",
    "    - \"is_holiday\" (IV: 0.06)\n",
    "    \n",
    "    \n",
    "+ Medium Predictors: \n",
    "    - \"weekday\" (IV: 0.11)\n",
    "    - \"dayofmonth\" (IV: 0.12)\n",
    "    - \"season\" (IV: 0.12)\n",
    "    - \"windspeed_Bins\" (IV: 0.13)\n",
    "   \n",
    "\n",
    "+ Strong Predictors:\n",
    "    - \"temp_Bins\" (IV: 0.35)\n",
    "    - \"atemp_Bins\" (IV: 0.37)\n",
    "    - \"humidity_Bins\" (IV: 0.39)\n",
    "    \n",
    "    \n",
    "+ Suspicious or too good to be true:   \n",
    "     - \"weather_condition\" (IV: 0.62)\n",
    "\n",
    "\n",
    "&nbsp;&nbsp;&nbsp;&nbsp; **The conclusion:** Success of a particular day in bike sharing business is strongly influenced by environmental factors.\n",
    "\n",
    "&nbsp;&nbsp;&nbsp;&nbsp;For development of my models, I will primarily try to use strong predictors (\"temp_Bins\", \"atemp_Bins\",\"humidity_Bins\") and 2 of the strongest medium ones ( \"windspeed_Bins\", \"season\"). If I see that some of them are heavily correlated, I will omit some."
   ]
  },
  {
   "cell_type": "markdown",
   "metadata": {},
   "source": [
    "## 4.3. Coarse Classing - grouping by WoE<a name=\"cc\"></a> "
   ]
  },
  {
   "cell_type": "markdown",
   "metadata": {},
   "source": [
    "&nbsp;&nbsp;&nbsp;&nbsp;I will calculate WoE and IV for most relevant attributes again and then see which nearby categories could be grouped. Then I will group them if needed.\n",
    "\n",
    "Rules related to combining WoE bins\n",
    "\n",
    "   - Each bin should have at least 5% of the observations\n",
    "   - The WOE should be distinct for each category. Similar groups should be aggregated or binned together. It is because the bins with similar WoE have almost the same proportion of good or bad, implying the same predictive power\n",
    "\n",
    "&nbsp;&nbsp;&nbsp;&nbsp;For two adjacent categories to be coarsed they will need to be in +- 0.05 range, which is just a personal preference and can be adjusted if needed later on."
   ]
  },
  {
   "cell_type": "markdown",
   "metadata": {},
   "source": [
    "&nbsp;&nbsp;&nbsp;&nbsp;Let's see if I need to further coarse our continuous predictors."
   ]
  },
  {
   "cell_type": "code",
   "execution_count": 159,
   "metadata": {},
   "outputs": [
    {
     "name": "stdout",
     "output_type": "stream",
     "text": [
      "temp_Bins\n",
      "         Value  All  Good  Bad  Distr_Good  Distr_Bad       WoE       IV\n",
      "(0.0581, 0.26]   74    20   54    0.047170   0.175896 -1.316137 0.169421\n",
      " (0.26, 0.316]   73    41   32    0.096698   0.104235 -0.075050 0.000566\n",
      "(0.316, 0.365]   73    40   33    0.094340   0.107492 -0.130514 0.001717\n",
      "(0.365, 0.428]   73    40   33    0.094340   0.107492 -0.130514 0.001717\n",
      "(0.428, 0.498]   73    49   24    0.115566   0.078176  0.390881 0.014615\n",
      "(0.498, 0.562]   73    55   18    0.129717   0.058632  0.794076 0.056447\n",
      "(0.562, 0.632]   75    50   25    0.117925   0.081433  0.370261 0.013511\n",
      "(0.632, 0.686]   71    49   22    0.115566   0.071661  0.477892 0.020982\n",
      "(0.686, 0.732]   74    51   23    0.120283   0.074919  0.473446 0.021478\n",
      "(0.732, 0.862]   72    29   43    0.068396   0.140065 -0.716790 0.051372\n",
      "\t\t\t\t\t\t\tIV score: 0.35\n",
      "\n",
      "\n",
      "atemp_Bins\n",
      "          Value  All  Good  Bad  Distr_Good  Distr_Bad       WoE       IV\n",
      "(0.0781, 0.255]   74    21   53    0.049528   0.172638 -1.248655 0.153722\n",
      " (0.255, 0.311]   73    36   37    0.084906   0.120521 -0.350285 0.012476\n",
      " (0.311, 0.364]   73    45   28    0.106132   0.091205  0.151572 0.002262\n",
      " (0.364, 0.425]   74    40   34    0.094340   0.110749 -0.160367 0.002632\n",
      " (0.425, 0.487]   72    47   25    0.110849   0.081433  0.308386 0.009071\n",
      " (0.487, 0.539]   73    53   20    0.125000   0.065147  0.651674 0.039005\n",
      " (0.539, 0.588]   73    50   23    0.117925   0.074919  0.453643 0.019509\n",
      " (0.588, 0.638]   73    54   19    0.127358   0.061889  0.721659 0.047246\n",
      " (0.638, 0.678]   73    50   23    0.117925   0.074919  0.453643 0.019509\n",
      " (0.678, 0.841]   73    28   45    0.066038   0.146580 -0.797344 0.064220\n",
      "\t\t\t\t\t\t\tIV score: 0.37\n",
      "\n",
      "\n",
      "humidity_Bins\n",
      "         Value  All  Good  Bad  Distr_Good  Distr_Bad       WoE       IV\n",
      " (0.253, 0.45]   74    46   28    0.108491   0.091205  0.173551 0.003000\n",
      "   (0.45, 0.5]   73    48   25    0.113208   0.081433  0.329439 0.010468\n",
      "  (0.5, 0.542]   73    57   16    0.134434   0.052117  0.947577 0.078001\n",
      "(0.542, 0.585]   73    41   32    0.096698   0.104235 -0.075050 0.000566\n",
      "(0.585, 0.627]   73    53   20    0.125000   0.065147  0.651674 0.039005\n",
      "(0.627, 0.669]   73    45   28    0.106132   0.091205  0.151572 0.002262\n",
      "(0.669, 0.708]   73    48   25    0.113208   0.081433  0.329439 0.010468\n",
      "(0.708, 0.753]   74    39   35    0.091981   0.114007 -0.214672 0.004728\n",
      "(0.753, 0.818]   72    28   44    0.066038   0.143322 -0.774871 0.059886\n",
      "(0.818, 0.972]   73    19   54    0.044811   0.175896 -1.367431 0.179249\n",
      "\t\t\t\t\t\t\tIV score: 0.39\n",
      "\n",
      "\n",
      "windspeed_Bins\n",
      "         Value  All  Good  Bad  Distr_Good  Distr_Bad       WoE       IV\n",
      " (0.0214, 0.1]   74    56   18    0.132075   0.058632  0.812094 0.059643\n",
      "  (0.1, 0.125]   73    47   26    0.110849   0.084691  0.269165 0.007041\n",
      "(0.125, 0.143]   73    40   33    0.094340   0.107492 -0.130514 0.001717\n",
      "(0.143, 0.164]   73    43   30    0.101415   0.097720  0.037117 0.000137\n",
      "(0.164, 0.181]   74    46   28    0.108491   0.091205  0.173551 0.003000\n",
      "  (0.181, 0.2]   72    45   27    0.106132   0.087948  0.187940 0.003418\n",
      "  (0.2, 0.223]   73    36   37    0.084906   0.120521 -0.350285 0.012476\n",
      "(0.223, 0.248]   73    39   34    0.091981   0.110749 -0.185685 0.003485\n",
      "(0.248, 0.296]   73    41   32    0.096698   0.104235 -0.075050 0.000566\n",
      "(0.296, 0.378]   73    31   42    0.073113   0.136808 -0.626568 0.039909\n",
      "\t\t\t\t\t\t\tIV score: 0.13\n",
      "\n",
      "\n"
     ]
    }
   ],
   "source": [
    "for col in data_binned.drop(columns=cat).columns:\n",
    "    print(col)\n",
    "    df, iv = calculate_woe_iv(data_binned,col,\"success\")\n",
    "    print(df.to_string(index=False))\n",
    "    print('\\t\\t\\t\\t\\t\\t\\tIV score: {:.2f}'.format(iv))\n",
    "    print('\\n')"
   ]
  },
  {
   "cell_type": "markdown",
   "metadata": {
    "scrolled": false
   },
   "source": [
    "&nbsp;&nbsp;&nbsp;&nbsp;We should coarse categories (0.632, 0.686] and (0.686, 0.732] in temp_Bins, as they are nearby categories with similar WoE."
   ]
  },
  {
   "cell_type": "code",
   "execution_count": 160,
   "metadata": {},
   "outputs": [],
   "source": [
    "#Coarsing these 2 categories into 1\n",
    "data_binned[\"temp_Bins\"].replace(to_replace=[pd.Interval(0.632, 0.686),pd.Interval(0.686, 0.732)],\n",
    "                                 value=pd.Interval(0.632, 0.732),inplace=True)"
   ]
  },
  {
   "cell_type": "code",
   "execution_count": 161,
   "metadata": {},
   "outputs": [
    {
     "name": "stdout",
     "output_type": "stream",
     "text": [
      "         Value  All  Good  Bad  Distr_Good  Distr_Bad       WoE       IV\n",
      "(0.0581, 0.26]   74    20   54    0.047170   0.175896 -1.316137 0.169421\n",
      " (0.26, 0.316]   73    41   32    0.096698   0.104235 -0.075050 0.000566\n",
      "(0.316, 0.365]   73    40   33    0.094340   0.107492 -0.130514 0.001717\n",
      "(0.365, 0.428]   73    40   33    0.094340   0.107492 -0.130514 0.001717\n",
      "(0.428, 0.498]   73    49   24    0.115566   0.078176  0.390881 0.014615\n",
      "(0.498, 0.562]   73    55   18    0.129717   0.058632  0.794076 0.056447\n",
      "(0.562, 0.632]   75    50   25    0.117925   0.081433  0.370261 0.013511\n",
      "(0.632, 0.732]  145   100   45    0.235849   0.146580  0.475622 0.042458\n",
      "(0.732, 0.862]   72    29   43    0.068396   0.140065 -0.716790 0.051372\n",
      "\t\t\t\t\t\t\tIV score: 0.35\n",
      "\n",
      "\n"
     ]
    }
   ],
   "source": [
    "df, iv = calculate_woe_iv(data_binned,\"temp_Bins\",\"success\")\n",
    "print(df.to_string(index=False))\n",
    "print('\\t\\t\\t\\t\\t\\t\\tIV score: {:.2f}'.format(iv))\n",
    "print('\\n')"
   ]
  },
  {
   "cell_type": "markdown",
   "metadata": {},
   "source": [
    "&nbsp;&nbsp;&nbsp;&nbsp;We should also coarse categories (0.164, 0.181] and (0.181, 0.2] in windspeed_Bins, as they are nearby categories with similar WoE."
   ]
  },
  {
   "cell_type": "code",
   "execution_count": 162,
   "metadata": {},
   "outputs": [],
   "source": [
    "#Coarsing these 2 categories into 1\n",
    "data_binned[\"windspeed_Bins\"].replace(to_replace=[pd.Interval(0.164, 0.181),pd.Interval(0.181, 0.2)],\n",
    "                                 value=pd.Interval(0.164, 0.2),inplace=True)"
   ]
  },
  {
   "cell_type": "code",
   "execution_count": 163,
   "metadata": {},
   "outputs": [
    {
     "name": "stdout",
     "output_type": "stream",
     "text": [
      "         Value  All  Good  Bad  Distr_Good  Distr_Bad       WoE       IV\n",
      " (0.0214, 0.1]   74    56   18    0.132075   0.058632  0.812094 0.059643\n",
      "  (0.1, 0.125]   73    47   26    0.110849   0.084691  0.269165 0.007041\n",
      "(0.125, 0.143]   73    40   33    0.094340   0.107492 -0.130514 0.001717\n",
      "(0.143, 0.164]   73    43   30    0.101415   0.097720  0.037117 0.000137\n",
      "  (0.164, 0.2]  146    91   55    0.214623   0.179153  0.180641 0.006407\n",
      "  (0.2, 0.223]   73    36   37    0.084906   0.120521 -0.350285 0.012476\n",
      "(0.223, 0.248]   73    39   34    0.091981   0.110749 -0.185685 0.003485\n",
      "(0.248, 0.296]   73    41   32    0.096698   0.104235 -0.075050 0.000566\n",
      "(0.296, 0.378]   73    31   42    0.073113   0.136808 -0.626568 0.039909\n",
      "\t\t\t\t\t\t\tIV score: 0.13\n",
      "\n",
      "\n"
     ]
    }
   ],
   "source": [
    "df, iv = calculate_woe_iv(data_binned,\"windspeed_Bins\",\"success\")\n",
    "print(df.to_string(index=False))\n",
    "print('\\t\\t\\t\\t\\t\\t\\tIV score: {:.2f}'.format(iv))\n",
    "print('\\n')"
   ]
  },
  {
   "cell_type": "markdown",
   "metadata": {},
   "source": [
    "&nbsp;&nbsp;&nbsp;&nbsp;In all other attributes WoE values in adjacent categories are distinct enough, so nothing has to be further coarsed."
   ]
  },
  {
   "cell_type": "markdown",
   "metadata": {},
   "source": [
    "&nbsp;&nbsp;&nbsp;&nbsp;This looks good now, I can proceed to the preparation for predictive model."
   ]
  },
  {
   "cell_type": "markdown",
   "metadata": {},
   "source": [
    "# 5. Preparation for predictive model<a name=\"prep\"></a> "
   ]
  },
  {
   "cell_type": "markdown",
   "metadata": {},
   "source": [
    "## 5.1. Correlation calculation<a name=\"corr\"></a> "
   ]
  },
  {
   "cell_type": "markdown",
   "metadata": {},
   "source": [
    "&nbsp;&nbsp;&nbsp;&nbsp;Let's calculate the correlation between possible predictors, later on, we will reduce the number of predictors based on these values."
   ]
  },
  {
   "cell_type": "code",
   "execution_count": 164,
   "metadata": {},
   "outputs": [
    {
     "data": {
      "text/html": [
       "<style  type=\"text/css\" >\n",
       "#T_f0183_row0_col0,#T_f0183_row1_col1,#T_f0183_row2_col2,#T_f0183_row3_col3,#T_f0183_row4_col4{\n",
       "            background-color:  #b40426;\n",
       "            color:  #f1f1f1;\n",
       "        }#T_f0183_row0_col1,#T_f0183_row1_col0{\n",
       "            background-color:  #b50927;\n",
       "            color:  #f1f1f1;\n",
       "        }#T_f0183_row0_col2{\n",
       "            background-color:  #9dbdff;\n",
       "            color:  #000000;\n",
       "        }#T_f0183_row0_col3{\n",
       "            background-color:  #d2dbe8;\n",
       "            color:  #000000;\n",
       "        }#T_f0183_row0_col4{\n",
       "            background-color:  #4f69d9;\n",
       "            color:  #000000;\n",
       "        }#T_f0183_row1_col2{\n",
       "            background-color:  #a1c0ff;\n",
       "            color:  #000000;\n",
       "        }#T_f0183_row1_col3{\n",
       "            background-color:  #d3dbe7;\n",
       "            color:  #000000;\n",
       "        }#T_f0183_row1_col4{\n",
       "            background-color:  #485fd1;\n",
       "            color:  #f1f1f1;\n",
       "        }#T_f0183_row2_col0{\n",
       "            background-color:  #8badfd;\n",
       "            color:  #000000;\n",
       "        }#T_f0183_row2_col1{\n",
       "            background-color:  #94b6ff;\n",
       "            color:  #000000;\n",
       "        }#T_f0183_row2_col3{\n",
       "            background-color:  #afcafc;\n",
       "            color:  #000000;\n",
       "        }#T_f0183_row2_col4,#T_f0183_row4_col0,#T_f0183_row4_col1,#T_f0183_row4_col2,#T_f0183_row4_col3{\n",
       "            background-color:  #3b4cc0;\n",
       "            color:  #f1f1f1;\n",
       "        }#T_f0183_row3_col0{\n",
       "            background-color:  #c7d7f0;\n",
       "            color:  #000000;\n",
       "        }#T_f0183_row3_col1{\n",
       "            background-color:  #cdd9ec;\n",
       "            color:  #000000;\n",
       "        }#T_f0183_row3_col2{\n",
       "            background-color:  #b2ccfb;\n",
       "            color:  #000000;\n",
       "        }#T_f0183_row3_col4{\n",
       "            background-color:  #3d50c3;\n",
       "            color:  #f1f1f1;\n",
       "        }</style><table id=\"T_f0183_\" ><thead>    <tr>        <th class=\"blank level0\" ></th>        <th class=\"col_heading level0 col0\" >temp</th>        <th class=\"col_heading level0 col1\" >atemp</th>        <th class=\"col_heading level0 col2\" >humidity</th>        <th class=\"col_heading level0 col3\" >season</th>        <th class=\"col_heading level0 col4\" >windspeed</th>    </tr></thead><tbody>\n",
       "                <tr>\n",
       "                        <th id=\"T_f0183_level0_row0\" class=\"row_heading level0 row0\" >temp</th>\n",
       "                        <td id=\"T_f0183_row0_col0\" class=\"data row0 col0\" >1.000000</td>\n",
       "                        <td id=\"T_f0183_row0_col1\" class=\"data row0 col1\" >0.991702</td>\n",
       "                        <td id=\"T_f0183_row0_col2\" class=\"data row0 col2\" >0.126534</td>\n",
       "                        <td id=\"T_f0183_row0_col3\" class=\"data row0 col3\" >0.334315</td>\n",
       "                        <td id=\"T_f0183_row0_col4\" class=\"data row0 col4\" >-0.156822</td>\n",
       "            </tr>\n",
       "            <tr>\n",
       "                        <th id=\"T_f0183_level0_row1\" class=\"row_heading level0 row1\" >atemp</th>\n",
       "                        <td id=\"T_f0183_row1_col0\" class=\"data row1 col0\" >0.991702</td>\n",
       "                        <td id=\"T_f0183_row1_col1\" class=\"data row1 col1\" >1.000000</td>\n",
       "                        <td id=\"T_f0183_row1_col2\" class=\"data row1 col2\" >0.139798</td>\n",
       "                        <td id=\"T_f0183_row1_col3\" class=\"data row1 col3\" >0.342876</td>\n",
       "                        <td id=\"T_f0183_row1_col4\" class=\"data row1 col4\" >-0.182864</td>\n",
       "            </tr>\n",
       "            <tr>\n",
       "                        <th id=\"T_f0183_level0_row2\" class=\"row_heading level0 row2\" >humidity</th>\n",
       "                        <td id=\"T_f0183_row2_col0\" class=\"data row2 col0\" >0.126534</td>\n",
       "                        <td id=\"T_f0183_row2_col1\" class=\"data row2 col1\" >0.139798</td>\n",
       "                        <td id=\"T_f0183_row2_col2\" class=\"data row2 col2\" >1.000000</td>\n",
       "                        <td id=\"T_f0183_row2_col3\" class=\"data row2 col3\" >0.203424</td>\n",
       "                        <td id=\"T_f0183_row2_col4\" class=\"data row2 col4\" >-0.239875</td>\n",
       "            </tr>\n",
       "            <tr>\n",
       "                        <th id=\"T_f0183_level0_row3\" class=\"row_heading level0 row3\" >season</th>\n",
       "                        <td id=\"T_f0183_row3_col0\" class=\"data row3 col0\" >0.334315</td>\n",
       "                        <td id=\"T_f0183_row3_col1\" class=\"data row3 col1\" >0.342876</td>\n",
       "                        <td id=\"T_f0183_row3_col2\" class=\"data row3 col2\" >0.203424</td>\n",
       "                        <td id=\"T_f0183_row3_col3\" class=\"data row3 col3\" >1.000000</td>\n",
       "                        <td id=\"T_f0183_row3_col4\" class=\"data row3 col4\" >-0.226338</td>\n",
       "            </tr>\n",
       "            <tr>\n",
       "                        <th id=\"T_f0183_level0_row4\" class=\"row_heading level0 row4\" >windspeed</th>\n",
       "                        <td id=\"T_f0183_row4_col0\" class=\"data row4 col0\" >-0.156822</td>\n",
       "                        <td id=\"T_f0183_row4_col1\" class=\"data row4 col1\" >-0.182864</td>\n",
       "                        <td id=\"T_f0183_row4_col2\" class=\"data row4 col2\" >-0.239875</td>\n",
       "                        <td id=\"T_f0183_row4_col3\" class=\"data row4 col3\" >-0.226338</td>\n",
       "                        <td id=\"T_f0183_row4_col4\" class=\"data row4 col4\" >1.000000</td>\n",
       "            </tr>\n",
       "    </tbody></table>"
      ],
      "text/plain": [
       "<pandas.io.formats.style.Styler at 0x299c123c208>"
      ]
     },
     "execution_count": 164,
     "metadata": {},
     "output_type": "execute_result"
    }
   ],
   "source": [
    "corr = data[[\"temp\",\"atemp\",\"humidity\",\"season\",\"windspeed\"]].corr()\n",
    "corr.style.background_gradient(cmap=\"coolwarm\")"
   ]
  },
  {
   "cell_type": "markdown",
   "metadata": {},
   "source": [
    "## 5.2. Variable reduction<a name=\"reduc\"></a> "
   ]
  },
  {
   "cell_type": "markdown",
   "metadata": {},
   "source": [
    "Guideline for interpretating the size of correlation: "
   ]
  },
  {
   "cell_type": "markdown",
   "metadata": {},
   "source": [
    "![Correlation](https://miro.medium.com/max/466/1*Qz_gwy4ZaSZuOpl3IyO2HA.png)"
   ]
  },
  {
   "cell_type": "markdown",
   "metadata": {},
   "source": [
    "&nbsp;&nbsp;&nbsp;&nbsp;Variables should be omitted if they show high collinearity. Since we can see high positive correlation between \"temp\" and \"atemp\", which was logical to expect in the first place, I should choose one of them for development of the model. Since \"atemp\" has higher IV (0.37) than \"temp\" (0.35), I will use \"atemp\". Since \"season\" has low positive correlation with \"atemp\" I will also omit it.\n",
    "\n",
    "&nbsp;&nbsp;&nbsp;&nbsp;Finally, chosen predictors are: \"atemp\", \"humidity\" and \"windspeed\""
   ]
  },
  {
   "cell_type": "markdown",
   "metadata": {},
   "source": [
    "## 5.3. Dummy variable creation<a name=\"dummy\"></a> "
   ]
  },
  {
   "cell_type": "markdown",
   "metadata": {},
   "source": [
    "&nbsp;&nbsp;&nbsp;&nbsp;Creating dummy variables out of chosen predictors (since they are continuous variables, I will use their binned versions)."
   ]
  },
  {
   "cell_type": "code",
   "execution_count": 165,
   "metadata": {},
   "outputs": [
    {
     "data": {
      "text/html": [
       "<div>\n",
       "<style scoped>\n",
       "    .dataframe tbody tr th:only-of-type {\n",
       "        vertical-align: middle;\n",
       "    }\n",
       "\n",
       "    .dataframe tbody tr th {\n",
       "        vertical-align: top;\n",
       "    }\n",
       "\n",
       "    .dataframe thead th {\n",
       "        text-align: right;\n",
       "    }\n",
       "</style>\n",
       "<table border=\"1\" class=\"dataframe\">\n",
       "  <thead>\n",
       "    <tr style=\"text-align: right;\">\n",
       "      <th></th>\n",
       "      <th>atemp_Bins_(0.0781, 0.255]</th>\n",
       "      <th>atemp_Bins_(0.255, 0.311]</th>\n",
       "      <th>atemp_Bins_(0.311, 0.364]</th>\n",
       "      <th>atemp_Bins_(0.364, 0.425]</th>\n",
       "      <th>atemp_Bins_(0.425, 0.487]</th>\n",
       "      <th>atemp_Bins_(0.487, 0.539]</th>\n",
       "      <th>atemp_Bins_(0.539, 0.588]</th>\n",
       "      <th>atemp_Bins_(0.588, 0.638]</th>\n",
       "      <th>atemp_Bins_(0.638, 0.678]</th>\n",
       "      <th>atemp_Bins_(0.678, 0.841]</th>\n",
       "      <th>...</th>\n",
       "      <th>windspeed_Bins_(0.0214, 0.1]</th>\n",
       "      <th>windspeed_Bins_(0.1, 0.125]</th>\n",
       "      <th>windspeed_Bins_(0.125, 0.143]</th>\n",
       "      <th>windspeed_Bins_(0.143, 0.164]</th>\n",
       "      <th>windspeed_Bins_(0.164, 0.2]</th>\n",
       "      <th>windspeed_Bins_(0.2, 0.223]</th>\n",
       "      <th>windspeed_Bins_(0.223, 0.248]</th>\n",
       "      <th>windspeed_Bins_(0.248, 0.296]</th>\n",
       "      <th>windspeed_Bins_(0.296, 0.378]</th>\n",
       "      <th>success</th>\n",
       "    </tr>\n",
       "  </thead>\n",
       "  <tbody>\n",
       "    <tr>\n",
       "      <th>0</th>\n",
       "      <td>0</td>\n",
       "      <td>0</td>\n",
       "      <td>1</td>\n",
       "      <td>0</td>\n",
       "      <td>0</td>\n",
       "      <td>0</td>\n",
       "      <td>0</td>\n",
       "      <td>0</td>\n",
       "      <td>0</td>\n",
       "      <td>0</td>\n",
       "      <td>...</td>\n",
       "      <td>0</td>\n",
       "      <td>0</td>\n",
       "      <td>0</td>\n",
       "      <td>1</td>\n",
       "      <td>0</td>\n",
       "      <td>0</td>\n",
       "      <td>0</td>\n",
       "      <td>0</td>\n",
       "      <td>0</td>\n",
       "      <td>0</td>\n",
       "    </tr>\n",
       "    <tr>\n",
       "      <th>1</th>\n",
       "      <td>0</td>\n",
       "      <td>0</td>\n",
       "      <td>1</td>\n",
       "      <td>0</td>\n",
       "      <td>0</td>\n",
       "      <td>0</td>\n",
       "      <td>0</td>\n",
       "      <td>0</td>\n",
       "      <td>0</td>\n",
       "      <td>0</td>\n",
       "      <td>...</td>\n",
       "      <td>0</td>\n",
       "      <td>0</td>\n",
       "      <td>0</td>\n",
       "      <td>0</td>\n",
       "      <td>0</td>\n",
       "      <td>0</td>\n",
       "      <td>0</td>\n",
       "      <td>1</td>\n",
       "      <td>0</td>\n",
       "      <td>0</td>\n",
       "    </tr>\n",
       "    <tr>\n",
       "      <th>2</th>\n",
       "      <td>1</td>\n",
       "      <td>0</td>\n",
       "      <td>0</td>\n",
       "      <td>0</td>\n",
       "      <td>0</td>\n",
       "      <td>0</td>\n",
       "      <td>0</td>\n",
       "      <td>0</td>\n",
       "      <td>0</td>\n",
       "      <td>0</td>\n",
       "      <td>...</td>\n",
       "      <td>0</td>\n",
       "      <td>0</td>\n",
       "      <td>0</td>\n",
       "      <td>0</td>\n",
       "      <td>0</td>\n",
       "      <td>0</td>\n",
       "      <td>1</td>\n",
       "      <td>0</td>\n",
       "      <td>0</td>\n",
       "      <td>1</td>\n",
       "    </tr>\n",
       "    <tr>\n",
       "      <th>3</th>\n",
       "      <td>1</td>\n",
       "      <td>0</td>\n",
       "      <td>0</td>\n",
       "      <td>0</td>\n",
       "      <td>0</td>\n",
       "      <td>0</td>\n",
       "      <td>0</td>\n",
       "      <td>0</td>\n",
       "      <td>0</td>\n",
       "      <td>0</td>\n",
       "      <td>...</td>\n",
       "      <td>0</td>\n",
       "      <td>0</td>\n",
       "      <td>0</td>\n",
       "      <td>1</td>\n",
       "      <td>0</td>\n",
       "      <td>0</td>\n",
       "      <td>0</td>\n",
       "      <td>0</td>\n",
       "      <td>0</td>\n",
       "      <td>1</td>\n",
       "    </tr>\n",
       "    <tr>\n",
       "      <th>4</th>\n",
       "      <td>1</td>\n",
       "      <td>0</td>\n",
       "      <td>0</td>\n",
       "      <td>0</td>\n",
       "      <td>0</td>\n",
       "      <td>0</td>\n",
       "      <td>0</td>\n",
       "      <td>0</td>\n",
       "      <td>0</td>\n",
       "      <td>0</td>\n",
       "      <td>...</td>\n",
       "      <td>0</td>\n",
       "      <td>0</td>\n",
       "      <td>0</td>\n",
       "      <td>0</td>\n",
       "      <td>1</td>\n",
       "      <td>0</td>\n",
       "      <td>0</td>\n",
       "      <td>0</td>\n",
       "      <td>0</td>\n",
       "      <td>1</td>\n",
       "    </tr>\n",
       "  </tbody>\n",
       "</table>\n",
       "<p>5 rows × 30 columns</p>\n",
       "</div>"
      ],
      "text/plain": [
       "   atemp_Bins_(0.0781, 0.255]  atemp_Bins_(0.255, 0.311]  \\\n",
       "0                           0                          0   \n",
       "1                           0                          0   \n",
       "2                           1                          0   \n",
       "3                           1                          0   \n",
       "4                           1                          0   \n",
       "\n",
       "   atemp_Bins_(0.311, 0.364]  atemp_Bins_(0.364, 0.425]  \\\n",
       "0                          1                          0   \n",
       "1                          1                          0   \n",
       "2                          0                          0   \n",
       "3                          0                          0   \n",
       "4                          0                          0   \n",
       "\n",
       "   atemp_Bins_(0.425, 0.487]  atemp_Bins_(0.487, 0.539]  \\\n",
       "0                          0                          0   \n",
       "1                          0                          0   \n",
       "2                          0                          0   \n",
       "3                          0                          0   \n",
       "4                          0                          0   \n",
       "\n",
       "   atemp_Bins_(0.539, 0.588]  atemp_Bins_(0.588, 0.638]  \\\n",
       "0                          0                          0   \n",
       "1                          0                          0   \n",
       "2                          0                          0   \n",
       "3                          0                          0   \n",
       "4                          0                          0   \n",
       "\n",
       "   atemp_Bins_(0.638, 0.678]  atemp_Bins_(0.678, 0.841]  ...  \\\n",
       "0                          0                          0  ...   \n",
       "1                          0                          0  ...   \n",
       "2                          0                          0  ...   \n",
       "3                          0                          0  ...   \n",
       "4                          0                          0  ...   \n",
       "\n",
       "   windspeed_Bins_(0.0214, 0.1]  windspeed_Bins_(0.1, 0.125]  \\\n",
       "0                             0                            0   \n",
       "1                             0                            0   \n",
       "2                             0                            0   \n",
       "3                             0                            0   \n",
       "4                             0                            0   \n",
       "\n",
       "   windspeed_Bins_(0.125, 0.143]  windspeed_Bins_(0.143, 0.164]  \\\n",
       "0                              0                              1   \n",
       "1                              0                              0   \n",
       "2                              0                              0   \n",
       "3                              0                              1   \n",
       "4                              0                              0   \n",
       "\n",
       "   windspeed_Bins_(0.164, 0.2]  windspeed_Bins_(0.2, 0.223]  \\\n",
       "0                            0                            0   \n",
       "1                            0                            0   \n",
       "2                            0                            0   \n",
       "3                            0                            0   \n",
       "4                            1                            0   \n",
       "\n",
       "   windspeed_Bins_(0.223, 0.248]  windspeed_Bins_(0.248, 0.296]  \\\n",
       "0                              0                              0   \n",
       "1                              0                              1   \n",
       "2                              1                              0   \n",
       "3                              0                              0   \n",
       "4                              0                              0   \n",
       "\n",
       "   windspeed_Bins_(0.296, 0.378]  success  \n",
       "0                              0        0  \n",
       "1                              0        0  \n",
       "2                              0        1  \n",
       "3                              0        1  \n",
       "4                              0        1  \n",
       "\n",
       "[5 rows x 30 columns]"
      ]
     },
     "execution_count": 165,
     "metadata": {},
     "output_type": "execute_result"
    }
   ],
   "source": [
    "atemp_dummy = pd.get_dummies(data_binned[\"atemp_Bins\"],prefix=\"atemp_Bins\")\n",
    "humidity_dummy = pd.get_dummies(data_binned[\"humidity_Bins\"], prefix=\"humidity_Bins\")\n",
    "windspeed_dummy = pd.get_dummies(data_binned[\"windspeed_Bins\"],prefix=\"windspeed_Bins\")\n",
    "\n",
    "dummy = pd.concat([atemp_dummy, humidity_dummy, windspeed_dummy, data_binned[\"success\"]], axis=1)\n",
    "dummy.head()"
   ]
  },
  {
   "cell_type": "markdown",
   "metadata": {},
   "source": [
    "&nbsp;&nbsp;&nbsp;&nbsp;All the predictors are now in binary format, I can proceed."
   ]
  },
  {
   "cell_type": "markdown",
   "metadata": {},
   "source": [
    "## 5.4. Dummies correlation<a name=\"dcorr\"></a> "
   ]
  },
  {
   "cell_type": "markdown",
   "metadata": {},
   "source": [
    "&nbsp;&nbsp;&nbsp;&nbsp;All dummy columns that have correlation coefficient greater than $ abs(0.3) $ should be removed. More precisely, the dummy variable with lesser Weight of Evidence score should be removed."
   ]
  },
  {
   "cell_type": "code",
   "execution_count": 166,
   "metadata": {},
   "outputs": [
    {
     "data": {
      "image/png": "[encoded data removed]",
      "text/plain": [
       "<Figure size 1008x720 with 2 Axes>"
      ]
     },
     "metadata": {},
     "output_type": "display_data"
    }
   ],
   "source": [
    "plt.figure(figsize=(14, 10))\n",
    "corrd=dummy.drop(\"success\",axis=1).corr().abs()\n",
    "sns.heatmap(corrd)\n",
    "plt.show()"
   ]
  },
  {
   "cell_type": "markdown",
   "metadata": {},
   "source": [
    "&nbsp;&nbsp;&nbsp;&nbsp;This plot is here just to see if there are some highly \"problematic\" values of correlation, by \"eyeballing\" this I can conclude that this is fine and created dummy variables aren't correlated beyond 0.3.\n",
    "\n",
    "&nbsp;&nbsp;&nbsp;&nbsp;To be sure, I will check that with code below."
   ]
  },
  {
   "cell_type": "code",
   "execution_count": 167,
   "metadata": {},
   "outputs": [
    {
     "data": {
      "text/plain": [
       "[]"
      ]
     },
     "execution_count": 167,
     "metadata": {},
     "output_type": "execute_result"
    }
   ],
   "source": [
    "#Select upper triangle of correlation matrix\n",
    "upper = corrd.where(np.triu(np.ones(corrd.shape), k=1).astype(np.bool))\n",
    "\n",
    "#Find dummies with correlation greater than 0.3\n",
    "to_drop = [column for column in upper.columns if any(upper[column] > 0.3)]\n",
    "\n",
    "#Features to be dropped\n",
    "to_drop"
   ]
  },
  {
   "cell_type": "markdown",
   "metadata": {},
   "source": [
    "&nbsp;&nbsp;&nbsp;&nbsp;We can see that it has returned an empty list, so no features are correlated beyond 0.3."
   ]
  },
  {
   "cell_type": "markdown",
   "metadata": {},
   "source": [
    "# 6. Model development<a name=\"model\"></a> "
   ]
  },
  {
   "cell_type": "markdown",
   "metadata": {},
   "source": [
    "## 6.1. Train - test split<a name=\"ttsplit\"></a> "
   ]
  },
  {
   "cell_type": "markdown",
   "metadata": {},
   "source": [
    "&nbsp;&nbsp;&nbsp;&nbsp;As I want to avoid the overfitting of the models to the data, I will split the data in two samples, first which consists of 80% of the data and will be used for development of the models, and second of other 20 % which is for testing purposes.\n",
    "\n",
    "&nbsp;&nbsp;&nbsp;&nbsp;Models will be tested both on 80% and 20 % samples, but test on the 20 % shows us \"real\" accuracy of the model."
   ]
  },
  {
   "cell_type": "code",
   "execution_count": 168,
   "metadata": {},
   "outputs": [],
   "source": [
    "#Defining target and predictor variables:\n",
    "X = dummy.drop(\"success\", axis=1)\n",
    "y = dummy[\"success\"]\n",
    "\n",
    "X_train, X_test, y_train, y_test = train_test_split(X, y, test_size=0.2, random_state=seed)"
   ]
  },
  {
   "cell_type": "markdown",
   "metadata": {},
   "source": [
    "## 6.2. Helper functions<a name=\"helper\"></a>"
   ]
  },
  {
   "cell_type": "markdown",
   "metadata": {},
   "source": [
    "&nbsp;&nbsp;&nbsp;&nbsp;I will define 3 helper functions to train and evaluate the models. First one will train the model and evaluate on the train sample."
   ]
  },
  {
   "cell_type": "code",
   "execution_count": 169,
   "metadata": {},
   "outputs": [],
   "source": [
    "def train_and_validate_on_train(X_train,y_train,mod, target='success'):\n",
    " \n",
    "    # Model fitting on train set and predictions on train set\n",
    "    model = mod.fit(X_train, y_train)\n",
    "    y_pred = model.predict(X_train)\n",
    "    probs = model.predict_proba(X_train)\n",
    "    \n",
    "    # Accuracy and precision scores on train set:\n",
    "    accuracy = accuracy_score(y_train, y_pred)\n",
    "    precision = precision_score(y_train, y_pred)\n",
    "    \n",
    "    # Classification report and Confusion matrix for train set\n",
    "    class_report = classification_report(y_train, y_pred)\n",
    "    conf_matrix = confusion_matrix(y_train, y_pred)\n",
    "    \n",
    "    \n",
    "    # Making of probability dataframe\n",
    "    prob_lst = []\n",
    "    for i in range(len(y_train)):\n",
    "        prob_lst.append({\n",
    "            'actual': y_train.values[i],\n",
    "            'predicted': y_pred[i],\n",
    "            'prob_0': float('{:.2f}'.format(probs[:,0][i])),\n",
    "            'prob_1': float('{:.2f}'.format(probs[:,1][i])),\n",
    "        })\n",
    "    df_prob = pd.DataFrame(prob_lst)\n",
    "\n",
    "    # Making of Uncertainty dataframe - shows values where predicted probability is between 0.5 and 0.6\n",
    "    num_uncertain = len(df_prob[(df_prob['prob_0'] < 0.60) & (df_prob['prob_0'] > 0.50)])\n",
    "    pct_uncertain = ((num_uncertain / len(df_prob)) * 100)\n",
    "    df_uncertain = pd.DataFrame({'Num. of Uncertain': num_uncertain, '% of Uncertain': pct_uncertain}, index=[0])\n",
    "    \n",
    "    # AUC and recall values\n",
    "    probs = probs[:, 1]\n",
    "    auc = roc_auc_score(y_train, probs)\n",
    "    recall = recall_score(y_train, y_pred)\n",
    "    #ROC curve\n",
    "    fpr, tpr, thresholds = roc_curve(y_train, probs)\n",
    "\n",
    "    return class_report, conf_matrix, df_prob, df_uncertain, auc, recall, fpr, tpr,accuracy, precision"
   ]
  },
  {
   "cell_type": "markdown",
   "metadata": {},
   "source": [
    "&nbsp;&nbsp;&nbsp;&nbsp;Second one will train the model and evaluate on the test sample."
   ]
  },
  {
   "cell_type": "code",
   "execution_count": 170,
   "metadata": {},
   "outputs": [],
   "source": [
    "def train_and_validate_on_test(X_train, X_test, y_train, y_test,mod, target='success'):\n",
    " \n",
    "    # Model fitting on train set and predictions on test set\n",
    "    model = mod.fit(X_train, y_train)\n",
    "    y_pred = model.predict(X_test)\n",
    "    probs = model.predict_proba(X_test)\n",
    "    \n",
    "    # Accuracy and precision scores on test set:\n",
    "    accuracy = accuracy_score(y_test, y_pred)\n",
    "    precision = precision_score(y_test, y_pred)\n",
    "    \n",
    "    # Classification report and Confusion matrix for test set\n",
    "    class_report = classification_report(y_test, y_pred)\n",
    "    conf_matrix = confusion_matrix(y_test, y_pred)\n",
    "    \n",
    "    # Making of probability dataframe\n",
    "    prob_lst = []\n",
    "    for i in range(len(y_test)):\n",
    "        prob_lst.append({\n",
    "            'actual': y_test.values[i],\n",
    "            'predicted': y_pred[i],\n",
    "            'prob_0': float('{:.2f}'.format(probs[:,0][i])),\n",
    "            'prob_1': float('{:.2f}'.format(probs[:,1][i])),\n",
    "        })\n",
    "    df_prob = pd.DataFrame(prob_lst)\n",
    "\n",
    "    # Making of Uncertainty dataframe - shows values where predicted probability is between 0.5 and 0.6\n",
    "    num_uncertain = len(df_prob[(df_prob['prob_0'] < 0.60) & (df_prob['prob_0'] > 0.50)])\n",
    "    pct_uncertain = ((num_uncertain / len(df_prob)) * 100)\n",
    "    df_uncertain = pd.DataFrame({'Num. of Uncertain': num_uncertain, '% of Uncertain': pct_uncertain}, index=[0])\n",
    "    \n",
    "    # AUC and recall values\n",
    "    probs = probs[:, 1]\n",
    "    auc = roc_auc_score(y_test, probs)\n",
    "    recall = recall_score(y_test, y_pred)\n",
    "    #ROC curve\n",
    "    fpr, tpr, thresholds = roc_curve(y_test, probs)\n",
    "    \n",
    "    return class_report, conf_matrix, df_prob, df_uncertain, auc, recall, fpr, tpr,accuracy, precision"
   ]
  },
  {
   "cell_type": "markdown",
   "metadata": {},
   "source": [
    "&nbsp;&nbsp;&nbsp;&nbsp;Third one will show the results of prior two functions."
   ]
  },
  {
   "cell_type": "code",
   "execution_count": 171,
   "metadata": {},
   "outputs": [],
   "source": [
    "def show(class_report, conf_matrix, df_prob, df_uncertain, auc, recall,fpr,tpr,accuracy,precision):\n",
    "    print('Confusion matrix:')\n",
    "    print(conf_matrix)\n",
    "    print('\\n')\n",
    "    print('Classification report:')\n",
    "    print(class_report)\n",
    "    print('\\n')\n",
    "    print('First 10 probabilities:')\n",
    "    print(df_prob.head(10))\n",
    "    print('\\n')\n",
    "    print('Uncertainty:')\n",
    "    print(df_uncertain)\n",
    "    print('\\n')\n",
    "    print('AUC: {:.2f}'.format(auc))\n",
    "    print('Recall: {:.2f}'.format(recall))\n",
    "    print('Accuracy: {:.2f}'.format(accuracy))\n",
    "    print('Precision: {:.2f}'.format(precision))\n",
    "    \n",
    "    plt.figure(figsize=(8, 6))\n",
    "    plt.plot(fpr, tpr, color='red', label='ROC')\n",
    "    plt.plot([0, 1], [0, 1], color='black', linestyle='--', label='Random chances')\n",
    "    plt.xlabel('False Positive Rate')\n",
    "    plt.ylabel('True Positive Rate')\n",
    "    plt.title('AUROC')\n",
    "    plt.legend()\n",
    "    plt.show()"
   ]
  },
  {
   "cell_type": "markdown",
   "metadata": {},
   "source": [
    "## 6.3. Logistic Regression<a name=\"logreg\"></a> "
   ]
  },
  {
   "cell_type": "markdown",
   "metadata": {},
   "source": [
    "&nbsp;&nbsp;&nbsp;&nbsp;First classification algorithm I will use is Logistic Regression. I will define it with default parameters."
   ]
  },
  {
   "cell_type": "code",
   "execution_count": 172,
   "metadata": {},
   "outputs": [],
   "source": [
    "model_logreg=LogisticRegression() "
   ]
  },
  {
   "cell_type": "markdown",
   "metadata": {},
   "source": [
    "&nbsp;&nbsp;&nbsp;&nbsp;Let's check its performance on train set with use of earlier defined helper function."
   ]
  },
  {
   "cell_type": "code",
   "execution_count": 173,
   "metadata": {},
   "outputs": [
    {
     "name": "stdout",
     "output_type": "stream",
     "text": [
      "Confusion matrix:\n",
      "[[146  97]\n",
      " [ 54 287]]\n",
      "\n",
      "\n",
      "Classification report:\n",
      "              precision    recall  f1-score   support\n",
      "\n",
      "           0       0.73      0.60      0.66       243\n",
      "           1       0.75      0.84      0.79       341\n",
      "\n",
      "    accuracy                           0.74       584\n",
      "   macro avg       0.74      0.72      0.73       584\n",
      "weighted avg       0.74      0.74      0.74       584\n",
      "\n",
      "\n",
      "\n",
      "First 10 probabilities:\n",
      "   actual  predicted  prob_0  prob_1\n",
      "0       0          0    0.58    0.42\n",
      "1       0          0    0.64    0.36\n",
      "2       1          1    0.15    0.85\n",
      "3       1          1    0.18    0.82\n",
      "4       1          1    0.29    0.71\n",
      "5       0          0    0.71    0.29\n",
      "6       1          0    0.59    0.41\n",
      "7       1          1    0.47    0.53\n",
      "8       1          1    0.23    0.77\n",
      "9       1          1    0.30    0.70\n",
      "\n",
      "\n",
      "Uncertainty:\n",
      "   Num. of Uncertain  % of Uncertain\n",
      "0                 57        9.760274\n",
      "\n",
      "\n",
      "AUC: 0.80\n",
      "Recall: 0.84\n",
      "Accuracy: 0.74\n",
      "Precision: 0.75\n"
     ]
    },
    {
     "data": {
      "image/png": "[encoded data removed]",
      "text/plain": [
       "<Figure size 576x432 with 1 Axes>"
      ]
     },
     "metadata": {},
     "output_type": "display_data"
    }
   ],
   "source": [
    "#Results on train set\n",
    "class_report, conf_matrix, df_prob, df_uncertain, auc, recall,fpr,tpr,accuracy,precision=train_and_validate_on_train(X_train\n",
    ",y_train,model_logreg)\n",
    "\n",
    "show(class_report, conf_matrix, df_prob, df_uncertain, auc, recall,fpr,tpr,accuracy,precision)"
   ]
  },
  {
   "cell_type": "markdown",
   "metadata": {},
   "source": [
    "&nbsp;&nbsp;&nbsp;&nbsp;Model performs solid on the train set, let's check the performance on the test set."
   ]
  },
  {
   "cell_type": "code",
   "execution_count": 174,
   "metadata": {},
   "outputs": [
    {
     "name": "stdout",
     "output_type": "stream",
     "text": [
      "Confusion matrix:\n",
      "[[35 29]\n",
      " [17 66]]\n",
      "\n",
      "\n",
      "Classification report:\n",
      "              precision    recall  f1-score   support\n",
      "\n",
      "           0       0.67      0.55      0.60        64\n",
      "           1       0.69      0.80      0.74        83\n",
      "\n",
      "    accuracy                           0.69       147\n",
      "   macro avg       0.68      0.67      0.67       147\n",
      "weighted avg       0.69      0.69      0.68       147\n",
      "\n",
      "\n",
      "\n",
      "First 10 probabilities:\n",
      "   actual  predicted  prob_0  prob_1\n",
      "0       1          1    0.35    0.65\n",
      "1       0          0    0.69    0.31\n",
      "2       0          1    0.26    0.74\n",
      "3       1          1    0.36    0.64\n",
      "4       1          1    0.33    0.67\n",
      "5       1          1    0.35    0.65\n",
      "6       0          1    0.47    0.53\n",
      "7       0          0    0.51    0.49\n",
      "8       1          1    0.06    0.94\n",
      "9       0          1    0.46    0.54\n",
      "\n",
      "\n",
      "Uncertainty:\n",
      "   Num. of Uncertain  % of Uncertain\n",
      "0                 16       10.884354\n",
      "\n",
      "\n",
      "AUC: 0.76\n",
      "Recall: 0.80\n",
      "Accuracy: 0.69\n",
      "Precision: 0.69\n"
     ]
    },
    {
     "data": {
      "image/png": "[encoded data removed]",
      "text/plain": [
       "<Figure size 576x432 with 1 Axes>"
      ]
     },
     "metadata": {},
     "output_type": "display_data"
    }
   ],
   "source": [
    "#Results on test set\n",
    "class_report, conf_matrix, df_prob, df_uncertain, auc, recall,fpr,tpr,accuracy,precision=train_and_validate_on_test(X_train,\n",
    "X_test, y_train, y_test,model_logreg)\n",
    "\n",
    "show(class_report, conf_matrix, df_prob, df_uncertain, auc, recall,fpr,tpr,accuracy,precision)"
   ]
  },
  {
   "cell_type": "markdown",
   "metadata": {},
   "source": [
    "&nbsp;&nbsp;&nbsp;&nbsp;**The conclusion:** Expectedly it performs worse on the test set, but these are still very solid numbers. Area Under Curve of 0.76, Recall of 0.80, Accuracy of  0.69 and Precision of  0.69 are ok."
   ]
  },
  {
   "cell_type": "markdown",
   "metadata": {},
   "source": [
    "## 6.4. Challenge model<a name=\"chall\"></a> "
   ]
  },
  {
   "cell_type": "markdown",
   "metadata": {},
   "source": [
    "&nbsp;&nbsp;&nbsp;&nbsp;I will now try to challenge former Logistic Regression model with an introduction of derived behavioural variable. Nature of this data is that it presents a day in bike sharing business and not a customer in credit-risk analysis or churn analysis where this technique is used, so this technique is not fully applicable. We don't have previous observation period and for particular days we can't assess \"behaviour\" related to previous days.\n",
    "\n",
    "\n",
    "&nbsp;&nbsp;&nbsp;&nbsp;But let's try to imply a \"good day for bike rental business\". Let's see if a conclusion that good days are more often the working days with fine weather."
   ]
  },
  {
   "cell_type": "code",
   "execution_count": 175,
   "metadata": {},
   "outputs": [],
   "source": [
    "#Creation of \"behavioural\" variable\n",
    "good_day_bike=((data[\"weather_condition\"]==1)& (data[\"is_workingday\"]==1)).astype(int).rename(\"good_day_bike\")\n",
    "#Concatenating with original dummy predictors\n",
    "dummy2=pd.concat([dummy,good_day_bike],axis=1)"
   ]
  },
  {
   "cell_type": "code",
   "execution_count": 176,
   "metadata": {},
   "outputs": [
    {
     "name": "stdout",
     "output_type": "stream",
     "text": [
      " Value  All  Good  Bad  Distr_Good  Distr_Bad       WoE       IV\n",
      "     0  424   191  233    0.450472   0.758958 -0.521651 0.160922\n",
      "     1  307   233   74    0.549528   0.241042  0.824088 0.254219\n",
      "\t\t\t\t\t\t\tIV score: 0.42\n",
      "\n",
      "\n"
     ]
    }
   ],
   "source": [
    "df, iv = calculate_woe_iv(dummy2,\"good_day_bike\",\"success\")\n",
    "print(df.to_string(index=False))\n",
    "print('\\t\\t\\t\\t\\t\\t\\tIV score: {:.2f}'.format(iv))\n",
    "print('\\n')"
   ]
  },
  {
   "cell_type": "markdown",
   "metadata": {},
   "source": [
    "&nbsp;&nbsp;&nbsp;&nbsp;IV value looks promising. Let's check correlation with previously used predictor variables."
   ]
  },
  {
   "cell_type": "code",
   "execution_count": 177,
   "metadata": {},
   "outputs": [
    {
     "data": {
      "text/html": [
       "<style  type=\"text/css\" >\n",
       "#T_a0dfe_row0_col0,#T_a0dfe_row1_col1,#T_a0dfe_row2_col2,#T_a0dfe_row3_col3{\n",
       "            background-color:  #b40426;\n",
       "            color:  #f1f1f1;\n",
       "        }#T_a0dfe_row0_col1{\n",
       "            background-color:  #b6cefa;\n",
       "            color:  #000000;\n",
       "        }#T_a0dfe_row0_col2{\n",
       "            background-color:  #485fd1;\n",
       "            color:  #f1f1f1;\n",
       "        }#T_a0dfe_row0_col3{\n",
       "            background-color:  #b1cbfc;\n",
       "            color:  #000000;\n",
       "        }#T_a0dfe_row1_col0{\n",
       "            background-color:  #94b6ff;\n",
       "            color:  #000000;\n",
       "        }#T_a0dfe_row1_col2,#T_a0dfe_row1_col3,#T_a0dfe_row2_col0,#T_a0dfe_row3_col1{\n",
       "            background-color:  #3b4cc0;\n",
       "            color:  #f1f1f1;\n",
       "        }#T_a0dfe_row2_col1{\n",
       "            background-color:  #5673e0;\n",
       "            color:  #000000;\n",
       "        }#T_a0dfe_row2_col3,#T_a0dfe_row3_col0{\n",
       "            background-color:  #8fb1fe;\n",
       "            color:  #000000;\n",
       "        }#T_a0dfe_row3_col2{\n",
       "            background-color:  #7396f5;\n",
       "            color:  #000000;\n",
       "        }</style><table id=\"T_a0dfe_\" ><thead>    <tr>        <th class=\"blank level0\" ></th>        <th class=\"col_heading level0 col0\" >atemp</th>        <th class=\"col_heading level0 col1\" >humidity</th>        <th class=\"col_heading level0 col2\" >windspeed</th>        <th class=\"col_heading level0 col3\" >good_day_bike</th>    </tr></thead><tbody>\n",
       "                <tr>\n",
       "                        <th id=\"T_a0dfe_level0_row0\" class=\"row_heading level0 row0\" >atemp</th>\n",
       "                        <td id=\"T_a0dfe_row0_col0\" class=\"data row0 col0\" >1.000000</td>\n",
       "                        <td id=\"T_a0dfe_row0_col1\" class=\"data row0 col1\" >0.139798</td>\n",
       "                        <td id=\"T_a0dfe_row0_col2\" class=\"data row0 col2\" >-0.182864</td>\n",
       "                        <td id=\"T_a0dfe_row0_col3\" class=\"data row0 col3\" >0.118652</td>\n",
       "            </tr>\n",
       "            <tr>\n",
       "                        <th id=\"T_a0dfe_level0_row1\" class=\"row_heading level0 row1\" >humidity</th>\n",
       "                        <td id=\"T_a0dfe_row1_col0\" class=\"data row1 col0\" >0.139798</td>\n",
       "                        <td id=\"T_a0dfe_row1_col1\" class=\"data row1 col1\" >1.000000</td>\n",
       "                        <td id=\"T_a0dfe_row1_col2\" class=\"data row1 col2\" >-0.239875</td>\n",
       "                        <td id=\"T_a0dfe_row1_col3\" class=\"data row1 col3\" >-0.366731</td>\n",
       "            </tr>\n",
       "            <tr>\n",
       "                        <th id=\"T_a0dfe_level0_row2\" class=\"row_heading level0 row2\" >windspeed</th>\n",
       "                        <td id=\"T_a0dfe_row2_col0\" class=\"data row2 col0\" >-0.182864</td>\n",
       "                        <td id=\"T_a0dfe_row2_col1\" class=\"data row2 col1\" >-0.239875</td>\n",
       "                        <td id=\"T_a0dfe_row2_col2\" class=\"data row2 col2\" >1.000000</td>\n",
       "                        <td id=\"T_a0dfe_row2_col3\" class=\"data row2 col3\" >-0.019482</td>\n",
       "            </tr>\n",
       "            <tr>\n",
       "                        <th id=\"T_a0dfe_level0_row3\" class=\"row_heading level0 row3\" >good_day_bike</th>\n",
       "                        <td id=\"T_a0dfe_row3_col0\" class=\"data row3 col0\" >0.118652</td>\n",
       "                        <td id=\"T_a0dfe_row3_col1\" class=\"data row3 col1\" >-0.366731</td>\n",
       "                        <td id=\"T_a0dfe_row3_col2\" class=\"data row3 col2\" >-0.019482</td>\n",
       "                        <td id=\"T_a0dfe_row3_col3\" class=\"data row3 col3\" >1.000000</td>\n",
       "            </tr>\n",
       "    </tbody></table>"
      ],
      "text/plain": [
       "<pandas.io.formats.style.Styler at 0x299c13fdb48>"
      ]
     },
     "execution_count": 177,
     "metadata": {},
     "output_type": "execute_result"
    }
   ],
   "source": [
    "corr = pd.concat([data[[\"atemp\",\"humidity\",\"windspeed\"]],good_day_bike],axis=1).corr()\n",
    "corr.style.background_gradient(cmap=\"coolwarm\")"
   ]
  },
  {
   "cell_type": "markdown",
   "metadata": {},
   "source": [
    "&nbsp;&nbsp;&nbsp;&nbsp;There is a low negative correlation with humidity, but since it is not so strong, I think we can proceed. Let's also check if there is correlation with prior created dummy variables."
   ]
  },
  {
   "cell_type": "code",
   "execution_count": 178,
   "metadata": {},
   "outputs": [
    {
     "data": {
      "text/plain": [
       "[]"
      ]
     },
     "execution_count": 178,
     "metadata": {},
     "output_type": "execute_result"
    }
   ],
   "source": [
    "#Correlation matrix\n",
    "corrdd=dummy2.drop(\"success\",axis=1).corr().abs()\n",
    "#Select upper triangle of correlation matrix\n",
    "upper = corrdd.where(np.triu(np.ones(corrdd.shape), k=1).astype(np.bool))\n",
    "\n",
    "#Find dummies with correlation greater than 0.3\n",
    "to_drop = [column for column in upper.columns if any(upper[column] > 0.3)]\n",
    "\n",
    "#Features to be dropped\n",
    "to_drop"
   ]
  },
  {
   "cell_type": "markdown",
   "metadata": {},
   "source": [
    "&nbsp;&nbsp;&nbsp;&nbsp;Newly created variable isn't correlated with dummy variables used before. We can use it in model."
   ]
  },
  {
   "cell_type": "code",
   "execution_count": 179,
   "metadata": {},
   "outputs": [],
   "source": [
    "#Defining target and predictor variables:\n",
    "X = dummy2.drop(\"success\", axis=1)\n",
    "y = dummy2[\"success\"]\n",
    "\n",
    "#Splitting in the same manner as original set (using same random state)\n",
    "X_train, X_test, y_train, y_test = train_test_split(X, y, test_size=0.2, random_state=seed)"
   ]
  },
  {
   "cell_type": "code",
   "execution_count": 180,
   "metadata": {},
   "outputs": [
    {
     "name": "stdout",
     "output_type": "stream",
     "text": [
      "Confusion matrix:\n",
      "[[161  82]\n",
      " [ 57 284]]\n",
      "\n",
      "\n",
      "Classification report:\n",
      "              precision    recall  f1-score   support\n",
      "\n",
      "           0       0.74      0.66      0.70       243\n",
      "           1       0.78      0.83      0.80       341\n",
      "\n",
      "    accuracy                           0.76       584\n",
      "   macro avg       0.76      0.75      0.75       584\n",
      "weighted avg       0.76      0.76      0.76       584\n",
      "\n",
      "\n",
      "\n",
      "First 10 probabilities:\n",
      "   actual  predicted  prob_0  prob_1\n",
      "0       0          0    0.66    0.34\n",
      "1       0          0    0.64    0.36\n",
      "2       1          1    0.26    0.74\n",
      "3       1          1    0.23    0.77\n",
      "4       1          1    0.20    0.80\n",
      "5       0          0    0.72    0.28\n",
      "6       1          0    0.64    0.36\n",
      "7       1          0    0.61    0.39\n",
      "8       1          1    0.31    0.69\n",
      "9       1          1    0.19    0.81\n",
      "\n",
      "\n",
      "Uncertainty:\n",
      "   Num. of Uncertain  % of Uncertain\n",
      "0                 52         8.90411\n",
      "\n",
      "\n",
      "AUC: 0.82\n",
      "Recall: 0.83\n",
      "Accuracy: 0.76\n",
      "Precision: 0.78\n"
     ]
    },
    {
     "data": {
      "image/png": "[encoded data removed]",
      "text/plain": [
       "<Figure size 576x432 with 1 Axes>"
      ]
     },
     "metadata": {},
     "output_type": "display_data"
    }
   ],
   "source": [
    "#Results on train set\n",
    "class_report, conf_matrix, df_prob, df_uncertain, auc, recall,fpr,tpr,accuracy,precision=train_and_validate_on_train(X_train\n",
    ",y_train,model_logreg)\n",
    "\n",
    "show(class_report, conf_matrix, df_prob, df_uncertain, auc, recall,fpr,tpr,accuracy,precision)"
   ]
  },
  {
   "cell_type": "code",
   "execution_count": 181,
   "metadata": {},
   "outputs": [
    {
     "name": "stdout",
     "output_type": "stream",
     "text": [
      "Confusion matrix:\n",
      "[[39 25]\n",
      " [15 68]]\n",
      "\n",
      "\n",
      "Classification report:\n",
      "              precision    recall  f1-score   support\n",
      "\n",
      "           0       0.72      0.61      0.66        64\n",
      "           1       0.73      0.82      0.77        83\n",
      "\n",
      "    accuracy                           0.73       147\n",
      "   macro avg       0.73      0.71      0.72       147\n",
      "weighted avg       0.73      0.73      0.72       147\n",
      "\n",
      "\n",
      "\n",
      "First 10 probabilities:\n",
      "   actual  predicted  prob_0  prob_1\n",
      "0       1          1    0.19    0.81\n",
      "1       0          0    0.57    0.43\n",
      "2       0          1    0.33    0.67\n",
      "3       1          1    0.41    0.59\n",
      "4       1          1    0.18    0.82\n",
      "5       1          1    0.21    0.79\n",
      "6       0          0    0.61    0.39\n",
      "7       0          1    0.27    0.73\n",
      "8       1          1    0.12    0.88\n",
      "9       0          1    0.25    0.75\n",
      "\n",
      "\n",
      "Uncertainty:\n",
      "   Num. of Uncertain  % of Uncertain\n",
      "0                 10        6.802721\n",
      "\n",
      "\n",
      "AUC: 0.80\n",
      "Recall: 0.82\n",
      "Accuracy: 0.73\n",
      "Precision: 0.73\n"
     ]
    },
    {
     "data": {
      "image/png": "[encoded data removed]",
      "text/plain": [
       "<Figure size 576x432 with 1 Axes>"
      ]
     },
     "metadata": {},
     "output_type": "display_data"
    }
   ],
   "source": [
    "#Results on test set\n",
    "class_report, conf_matrix, df_prob, df_uncertain, auc, recall,fpr,tpr,accuracy,precision = train_and_validate_on_test(X_train,\n",
    "X_test,y_train, y_test,model_logreg)\n",
    "\n",
    "show(class_report, conf_matrix, df_prob, df_uncertain, auc, recall,fpr,tpr,accuracy,precision)"
   ]
  },
  {
   "cell_type": "markdown",
   "metadata": {},
   "source": [
    "&nbsp;&nbsp;&nbsp;&nbsp;**The conclusion:** We got better results on both train and test set, and introduction of this derived variable was a good call. From now on, I will use this extra predictor."
   ]
  },
  {
   "cell_type": "markdown",
   "metadata": {},
   "source": [
    "## 6.5. Random Forest<a name=\"rf\"></a> "
   ]
  },
  {
   "cell_type": "markdown",
   "metadata": {},
   "source": [
    "&nbsp;&nbsp;&nbsp;&nbsp;I will now try to use Random Forest algorithm for this binary classification task. First, I will use it with default parameters as I did with Logistic Regression. I will just use random_state = seed for reproducibility. Hyperparameter optimization will be done in last chapter."
   ]
  },
  {
   "cell_type": "code",
   "execution_count": 182,
   "metadata": {},
   "outputs": [],
   "source": [
    "model_rf=RandomForestClassifier(random_state = seed)"
   ]
  },
  {
   "cell_type": "code",
   "execution_count": 183,
   "metadata": {},
   "outputs": [
    {
     "name": "stdout",
     "output_type": "stream",
     "text": [
      "Confusion matrix:\n",
      "[[220  23]\n",
      " [ 17 324]]\n",
      "\n",
      "\n",
      "Classification report:\n",
      "              precision    recall  f1-score   support\n",
      "\n",
      "           0       0.93      0.91      0.92       243\n",
      "           1       0.93      0.95      0.94       341\n",
      "\n",
      "    accuracy                           0.93       584\n",
      "   macro avg       0.93      0.93      0.93       584\n",
      "weighted avg       0.93      0.93      0.93       584\n",
      "\n",
      "\n",
      "\n",
      "First 10 probabilities:\n",
      "   actual  predicted  prob_0  prob_1\n",
      "0       0          0    0.80    0.20\n",
      "1       0          0    0.84    0.16\n",
      "2       1          1    0.22    0.78\n",
      "3       1          1    0.02    0.98\n",
      "4       1          1    0.00    1.00\n",
      "5       0          0    0.85    0.15\n",
      "6       1          1    0.10    0.90\n",
      "7       1          0    0.73    0.27\n",
      "8       1          1    0.16    0.84\n",
      "9       1          1    0.04    0.96\n",
      "\n",
      "\n",
      "Uncertainty:\n",
      "   Num. of Uncertain  % of Uncertain\n",
      "0                 24        4.109589\n",
      "\n",
      "\n",
      "AUC: 0.99\n",
      "Recall: 0.95\n",
      "Accuracy: 0.93\n",
      "Precision: 0.93\n"
     ]
    },
    {
     "data": {
      "image/png": "[encoded data removed]",
      "text/plain": [
       "<Figure size 576x432 with 1 Axes>"
      ]
     },
     "metadata": {},
     "output_type": "display_data"
    }
   ],
   "source": [
    "#Results on train set\n",
    "class_report, conf_matrix, df_prob, df_uncertain, auc, recall,fpr,tpr,accuracy,precision = train_and_validate_on_train(X_train,\n",
    "y_train,model_rf)\n",
    "\n",
    "show(class_report, conf_matrix, df_prob, df_uncertain, auc, recall,fpr,tpr,accuracy,precision)"
   ]
  },
  {
   "cell_type": "markdown",
   "metadata": {},
   "source": [
    "&nbsp;&nbsp;&nbsp;&nbsp;Don't let this info fool you, these aren't great results, as Random Forest algorithm is prone to overfit the train data. Let's see its real value on the test set."
   ]
  },
  {
   "cell_type": "code",
   "execution_count": 184,
   "metadata": {},
   "outputs": [
    {
     "name": "stdout",
     "output_type": "stream",
     "text": [
      "Confusion matrix:\n",
      "[[39 25]\n",
      " [17 66]]\n",
      "\n",
      "\n",
      "Classification report:\n",
      "              precision    recall  f1-score   support\n",
      "\n",
      "           0       0.70      0.61      0.65        64\n",
      "           1       0.73      0.80      0.76        83\n",
      "\n",
      "    accuracy                           0.71       147\n",
      "   macro avg       0.71      0.70      0.70       147\n",
      "weighted avg       0.71      0.71      0.71       147\n",
      "\n",
      "\n",
      "\n",
      "First 10 probabilities:\n",
      "   actual  predicted  prob_0  prob_1\n",
      "0       1          1    0.06    0.94\n",
      "1       0          1    0.24    0.76\n",
      "2       0          1    0.25    0.75\n",
      "3       1          1    0.45    0.55\n",
      "4       1          1    0.10    0.90\n",
      "5       1          1    0.26    0.74\n",
      "6       0          0    0.73    0.27\n",
      "7       0          1    0.33    0.67\n",
      "8       1          1    0.21    0.79\n",
      "9       0          1    0.19    0.81\n",
      "\n",
      "\n",
      "Uncertainty:\n",
      "   Num. of Uncertain  % of Uncertain\n",
      "0                  9        6.122449\n",
      "\n",
      "\n",
      "AUC: 0.73\n",
      "Recall: 0.80\n",
      "Accuracy: 0.71\n",
      "Precision: 0.73\n"
     ]
    },
    {
     "data": {
      "image/png": "[encoded data removed]",
      "text/plain": [
       "<Figure size 576x432 with 1 Axes>"
      ]
     },
     "metadata": {},
     "output_type": "display_data"
    }
   ],
   "source": [
    "#Results on test set\n",
    "class_report, conf_matrix, df_prob, df_uncertain, auc, recall,fpr,tpr,accuracy,precision = train_and_validate_on_test(X_train,\n",
    "X_test, y_train, y_test,model_rf)\n",
    "\n",
    "show(class_report, conf_matrix, df_prob, df_uncertain, auc, recall,fpr,tpr,accuracy,precision)"
   ]
  },
  {
   "cell_type": "markdown",
   "metadata": {},
   "source": [
    "&nbsp;&nbsp;&nbsp;&nbsp;**The conclusion:** Testing on the train data doesn't give us good information about our model's performance, and especially on this algorithm as it is prone to overfit the train data. We can see that Logistic Regression model performs better on the test data than Random Forest model."
   ]
  },
  {
   "cell_type": "markdown",
   "metadata": {},
   "source": [
    "## 6.6. Hyperparameter optimization<a name=\"hyper\"></a> "
   ]
  },
  {
   "cell_type": "markdown",
   "metadata": {},
   "source": [
    "&nbsp;&nbsp;&nbsp;&nbsp;Let's try to optimize the parameters of both our Random Forest model, to get the best result possible. I will use Grid Search with Cross-Validation to try to find the best parameters. For Logistic Regression model we got very good results, and usually default parameters work best, so I won't try that on that model."
   ]
  },
  {
   "cell_type": "code",
   "execution_count": 185,
   "metadata": {},
   "outputs": [
    {
     "name": "stdout",
     "output_type": "stream",
     "text": [
      "Fitting 5 folds for each of 396 candidates, totalling 1980 fits\n"
     ]
    },
    {
     "name": "stderr",
     "output_type": "stream",
     "text": [
      "[Parallel(n_jobs=-1)]: Using backend LokyBackend with 4 concurrent workers.\n",
      "[Parallel(n_jobs=-1)]: Done  33 tasks      | elapsed:    4.3s\n",
      "[Parallel(n_jobs=-1)]: Done 154 tasks      | elapsed:   17.2s\n",
      "[Parallel(n_jobs=-1)]: Done 357 tasks      | elapsed:   40.5s\n",
      "[Parallel(n_jobs=-1)]: Done 640 tasks      | elapsed:  1.2min\n",
      "[Parallel(n_jobs=-1)]: Done 1005 tasks      | elapsed:  1.8min\n",
      "[Parallel(n_jobs=-1)]: Done 1450 tasks      | elapsed:  2.6min\n"
     ]
    },
    {
     "name": "stdout",
     "output_type": "stream",
     "text": [
      "Best parameter (CV score=0.741):\n",
      "{'criterion': 'entropy', 'max_depth': 10, 'max_features': 'log2', 'n_estimators': 100}\n"
     ]
    },
    {
     "name": "stderr",
     "output_type": "stream",
     "text": [
      "[Parallel(n_jobs=-1)]: Done 1980 out of 1980 | elapsed:  3.5min finished\n"
     ]
    }
   ],
   "source": [
    "#Defining parameters to be examined\n",
    "param_grid = {\n",
    "'n_estimators': [10,100,200,300,400,500],\n",
    "'max_features': ['auto', 'sqrt','log2'],\n",
    "'max_depth' : [10, 20, 30, 40, 50, 60, 70, 80, 90, 100, None],\n",
    "'criterion': ['gini','entropy']\n",
    "    }\n",
    "\n",
    "search = GridSearchCV(model_rf, param_grid, scoring='roc_auc', n_jobs=-1,cv=5, verbose=2)\n",
    "#n_jobs=-1 - all processors, cv=5 - 5 fold split\n",
    "search.fit(X_train, y_train)\n",
    "#WARNING - this is very comp. intensive and could last a while\n",
    "print(\"Best parameter (CV score=%0.3f):\" % search.best_score_)\n",
    "print(search.best_params_)"
   ]
  },
  {
   "cell_type": "code",
   "execution_count": 186,
   "metadata": {},
   "outputs": [],
   "source": [
    "model_rf2=RandomForestClassifier(random_state=seed, criterion=\"entropy\", max_depth=10, max_features=\"log2\",n_estimators=100)"
   ]
  },
  {
   "cell_type": "code",
   "execution_count": 187,
   "metadata": {},
   "outputs": [
    {
     "name": "stdout",
     "output_type": "stream",
     "text": [
      "Confusion matrix:\n",
      "[[36 28]\n",
      " [14 69]]\n",
      "\n",
      "\n",
      "Classification report:\n",
      "              precision    recall  f1-score   support\n",
      "\n",
      "           0       0.72      0.56      0.63        64\n",
      "           1       0.71      0.83      0.77        83\n",
      "\n",
      "    accuracy                           0.71       147\n",
      "   macro avg       0.72      0.70      0.70       147\n",
      "weighted avg       0.72      0.71      0.71       147\n",
      "\n",
      "\n",
      "\n",
      "First 10 probabilities:\n",
      "   actual  predicted  prob_0  prob_1\n",
      "0       1          1    0.17    0.83\n",
      "1       0          1    0.31    0.69\n",
      "2       0          1    0.32    0.68\n",
      "3       1          1    0.42    0.58\n",
      "4       1          1    0.18    0.82\n",
      "5       1          1    0.23    0.77\n",
      "6       0          0    0.63    0.37\n",
      "7       0          1    0.35    0.65\n",
      "8       1          1    0.30    0.70\n",
      "9       0          1    0.19    0.81\n",
      "\n",
      "\n",
      "Uncertainty:\n",
      "   Num. of Uncertain  % of Uncertain\n",
      "0                 17       11.564626\n",
      "\n",
      "\n",
      "AUC: 0.77\n",
      "Recall: 0.83\n",
      "Accuracy: 0.71\n",
      "Precision: 0.71\n"
     ]
    },
    {
     "data": {
      "image/png": "[encoded data removed]",
      "text/plain": [
       "<Figure size 576x432 with 1 Axes>"
      ]
     },
     "metadata": {},
     "output_type": "display_data"
    }
   ],
   "source": [
    "#Results on test set\n",
    "class_report, conf_matrix, df_prob, df_uncertain, auc, recall,fpr,tpr,accuracy,precision = train_and_validate_on_test(X_train,\n",
    "X_test, y_train, y_test,model_rf2)\n",
    "\n",
    "show(class_report, conf_matrix, df_prob, df_uncertain, auc, recall,fpr,tpr,accuracy,precision)"
   ]
  },
  {
   "cell_type": "markdown",
   "metadata": {},
   "source": [
    "&nbsp;&nbsp;&nbsp;&nbsp;**The conclusion:** When I optimized the hyperparameters a bit, now Random Forest model scores a little bit better on the test set, but it is still behind Logistic Regression in terms of AUC, Accuracy and Precision."
   ]
  },
  {
   "cell_type": "markdown",
   "metadata": {},
   "source": [
    "## 6.7. Herfindahl-Hirschman Index<a name=\"hhi\"></a> "
   ]
  },
  {
   "attachments": {},
   "cell_type": "markdown",
   "metadata": {},
   "source": [
    "&nbsp;&nbsp;&nbsp;&nbsp;Herfindahl–Hirschman Index, or abbreviated HHI, is a commonly accepted measure of market concentration. The HHI is calculated by squaring the market share of each firm competing in the market and then summing the resulting numbers.\n",
    "\n",
    "\n",
    "$$ \\large H = \\sum_{i=1}^N𝑆_𝑖^2 $$\n",
    "\n",
    "<p style=\"text-align:center;\">Si market share of company on market, N number of participants</p>\n",
    "<p style=\"text-align:center;\">Ranges from 1/N to one</p>\n",
    "\n",
    "\n",
    "\n",
    "<p style=\"text-align:center;\">Normalized:</p>\n",
    "\n",
    "$$ \\large \\overline{H}=(H−1/N)/(1−1/N) $$\n",
    "\n",
    "<p style=\"text-align:center;\">ranges from 0 to 1</p>\n",
    "\n",
    "| HHI | Interpretation |\n",
    "| --- | --- |\n",
    "| < 0.01 | No concentration |\n",
    "| 0.01 - 0.15 | Small |\n",
    "| 0.15 - 0.25 | Medium |\n",
    "| >0.25 | High |\n"
   ]
  },
  {
   "cell_type": "markdown",
   "metadata": {},
   "source": [
    "&nbsp;&nbsp;&nbsp;&nbsp;Since my data doesn't have any data about bike sharing firms or their respective shares in the market. I will try to calculate it this way: I will use the original data and calculate the shares of registered and casual riders over total riders in 2 years."
   ]
  },
  {
   "cell_type": "code",
   "execution_count": 188,
   "metadata": {},
   "outputs": [],
   "source": [
    "HHIdata=pd.read_csv(\"https://github.com/MySlav/BikeSharingProject/raw/main/data/day.csv\", usecols=[\"casual\",\"registered\",\"cnt\"])\n",
    "\n",
    "#Using same seed for split as before\n",
    "num_train, num_test, cnt_train, cnt_test = train_test_split(HHIdata[[\"registered\",\"casual\"]], HHIdata[\"cnt\"],\n",
    "                                                            test_size=0.2, random_state=seed)"
   ]
  },
  {
   "cell_type": "code",
   "execution_count": 189,
   "metadata": {},
   "outputs": [],
   "source": [
    "#Sums - train\n",
    "casual_sum_train=num_train[\"casual\"].sum()\n",
    "registered_sum_train=num_train[\"registered\"].sum()\n",
    "cnt_sum_train=cnt_train.sum()\n",
    "#Sums - test\n",
    "casual_sum_test=num_test[\"casual\"].sum()\n",
    "registered_sum_test=num_test[\"registered\"].sum()\n",
    "cnt_sum_test=cnt_test.sum()\n",
    "#Shares - train\n",
    "casual_share_train=casual_sum_train/cnt_sum_train\n",
    "registered_share_train=registered_sum_train/cnt_sum_train\n",
    "#Shares - test\n",
    "casual_share_test=casual_sum_test/cnt_sum_test\n",
    "registered_share_test=registered_sum_test/cnt_sum_test\n",
    "#HHI\n",
    "HHI_train=casual_share_train**2+ registered_share_train**2\n",
    "HHI_test=casual_share_test**2+ registered_share_test**2\n",
    "#HHI-normalized\n",
    "HHI_train_norm=(HHI_train-1/2)/(1-1/2)\n",
    "HHI_test_norm=(HHI_test-1/2)/(1-1/2)"
   ]
  },
  {
   "cell_type": "code",
   "execution_count": 190,
   "metadata": {},
   "outputs": [
    {
     "name": "stdout",
     "output_type": "stream",
     "text": [
      "HHI for train set is - 0.69, normalized value - 0.38\n",
      "HHI for test set is - 0.70, normalized value - 0.41\n"
     ]
    }
   ],
   "source": [
    "print('HHI for train set is - {:.2f}, normalized value - {:.2f}'.format(HHI_train,HHI_train_norm))\n",
    "print('HHI for test set is - {:.2f}, normalized value - {:.2f}'.format(HHI_test,HHI_test_norm))"
   ]
  },
  {
   "cell_type": "markdown",
   "metadata": {},
   "source": [
    "&nbsp;&nbsp;&nbsp;&nbsp;**The conclusion:** As I have mentioned afore, I didn't have any data about market shares, so I used this workaround to calculate the HHI. This high concentration result was to be expected since in this case I have just 2 competing \"firms\" (casual and registered riders and their respective shares in total count over 2 years). It is interesting to see that HHI is almost the same for train and test set, which means that total numbers of casual and registered riders are balanced over train and test set."
   ]
  },
  {
   "cell_type": "markdown",
   "metadata": {},
   "source": [
    "## 6.8. Stability index<a name=\"stab\"></a> "
   ]
  },
  {
   "cell_type": "markdown",
   "metadata": {},
   "source": [
    "&nbsp;&nbsp;&nbsp;&nbsp;Stability index is a measure of how much a population has shifted over time or between two different samples of a population in a single number. It does this by bucketing the two distributions and comparing the percentages of items in each of the buckets, resulting in a single number you can use to understand how different the populations are. In situation where predictive model exists, it could be applied on probability bins, which is based on probability scale. It also could be applied on variables which were recognized as most predictive during attribute relevance analysis process, customer prospective value categories, segments which were recognized by clustering algorithms or similar results which is integral part of the churn\n",
    "solution. In simple words, Stability index compares the distribution of a scoring variable (predicted probability) in scoring data set to a training data set that was used to develop the model. The idea is to check \"How the current scoring is compared to the predicted probability from training data set\".\n",
    "\n",
    "<p style=\"text-align:center;\">Stability index is calculated as it is shown in following formula:</p>\n",
    "\n",
    "$$ \\large Si = \\sum_{i=1}^n(\\%Actual_{i} - \\%Expected_{i}*ln(\\frac{\\%Actual_{i}}{\\%Expected_{i}}) $$\n",
    "\n",
    "<p style=\"text-align:center;\">The common interpretation of the Si result is:</p>\n",
    "\n",
    "| Si | Interpretation |\n",
    "| --- | --- |\n",
    "| < 0.1 | Stable population |\n",
    "| 0.1 - 0.25 | Medium changes |\n",
    "| > 0.25 | Significant changes within population |\n"
   ]
  },
  {
   "cell_type": "code",
   "execution_count": 191,
   "metadata": {},
   "outputs": [],
   "source": [
    "#Function for calculation of Si which I found on the internet and modded a bit, credit to the original author: Matthew Burke\n",
    "def calculate_psi(expected, actual, buckettype='bins', buckets=10, axis=0):\n",
    "    \n",
    "    def psi(expected_array, actual_array, buckets):\n",
    "\n",
    "        def scale_range (input, min, max):\n",
    "            input += -(np.min(input))\n",
    "            input /= np.max(input) / (max - min)\n",
    "            input += min\n",
    "            return input\n",
    "\n",
    "\n",
    "        breakpoints = np.arange(0, buckets + 1) / (buckets) * 100\n",
    "\n",
    "        if buckettype == 'bins':\n",
    "            breakpoints = scale_range(breakpoints, np.min(expected_array), np.max(expected_array))\n",
    "        elif buckettype == 'quantiles':\n",
    "            breakpoints = np.stack([np.percentile(expected_array, b) for b in breakpoints])\n",
    "\n",
    "\n",
    "\n",
    "        expected_percents = np.histogram(expected_array, breakpoints)[0] / len(expected_array)\n",
    "        actual_percents = np.histogram(actual_array, breakpoints)[0] / len(actual_array)\n",
    "\n",
    "        def sub_psi(e_perc, a_perc):\n",
    "           \n",
    "            if a_perc == 0:\n",
    "                a_perc = 0.0001\n",
    "            if e_perc == 0:\n",
    "                e_perc = 0.0001\n",
    "\n",
    "            value = (e_perc - a_perc) * np.log(e_perc / a_perc)\n",
    "            return(value)\n",
    "        \n",
    "        import warnings\n",
    "        warnings.filterwarnings(\"ignore\", category=DeprecationWarning)\n",
    "        psi_value = np.sum(sub_psi(expected_percents[i], actual_percents[i]) for i in range(0, len(expected_percents)))\n",
    "        \n",
    "        return(psi_value)\n",
    "\n",
    "    if len(expected.shape) == 1:\n",
    "        psi_values = np.empty(len(expected.shape))\n",
    "    else:\n",
    "        psi_values = np.empty(expected.shape[axis])\n",
    "\n",
    "    for i in range(0, len(psi_values)):\n",
    "        if len(psi_values) == 1:\n",
    "            psi_values = psi(expected, actual, buckets)\n",
    "        elif axis == 0:\n",
    "            psi_values[i] = psi(expected[:,i], actual[:,i], buckets)\n",
    "        elif axis == 1:\n",
    "            psi_values[i] = psi(expected[i,:], actual[i,:], buckets)\n",
    "\n",
    "    return(psi_values)"
   ]
  },
  {
   "cell_type": "markdown",
   "metadata": {},
   "source": [
    "&nbsp;&nbsp;&nbsp;&nbsp;Although, checking of Si of our derived binary predictors used for the development of the models doesn't make perfect sense since that data can't be properly bucketed (there are only 2 possible values that they can take), but let's see the results."
   ]
  },
  {
   "cell_type": "code",
   "execution_count": 192,
   "metadata": {},
   "outputs": [
    {
     "name": "stdout",
     "output_type": "stream",
     "text": [
      "Stability index values for derived binary predictors used between train and test set:\n",
      "\n",
      "atemp_Bins_(0.0781, 0.255] : 0.0\n",
      "atemp_Bins_(0.255, 0.311] : 0.01\n",
      "atemp_Bins_(0.311, 0.364] : 0.0\n",
      "atemp_Bins_(0.364, 0.425] : 0.0\n",
      "atemp_Bins_(0.425, 0.487] : 0.0\n",
      "atemp_Bins_(0.487, 0.539] : 0.0\n",
      "atemp_Bins_(0.539, 0.588] : 0.03\n",
      "atemp_Bins_(0.588, 0.638] : 0.0\n",
      "atemp_Bins_(0.638, 0.678] : 0.01\n",
      "atemp_Bins_(0.678, 0.841] : 0.0\n",
      "humidity_Bins_(0.253, 0.45] : 0.01\n",
      "humidity_Bins_(0.45, 0.5] : 0.0\n",
      "humidity_Bins_(0.5, 0.542] : 0.02\n",
      "humidity_Bins_(0.542, 0.585] : 0.01\n",
      "humidity_Bins_(0.585, 0.627] : 0.02\n",
      "humidity_Bins_(0.627, 0.669] : 0.0\n",
      "humidity_Bins_(0.669, 0.708] : 0.0\n",
      "humidity_Bins_(0.708, 0.753] : 0.0\n",
      "humidity_Bins_(0.753, 0.818] : 0.02\n",
      "humidity_Bins_(0.818, 0.972] : 0.0\n",
      "windspeed_Bins_(0.0214, 0.1] : 0.0\n",
      "windspeed_Bins_(0.1, 0.125] : 0.01\n",
      "windspeed_Bins_(0.125, 0.143] : 0.0\n",
      "windspeed_Bins_(0.143, 0.164] : 0.01\n",
      "windspeed_Bins_(0.164, 0.2] : 0.0\n",
      "windspeed_Bins_(0.2, 0.223] : 0.01\n",
      "windspeed_Bins_(0.223, 0.248] : 0.0\n",
      "windspeed_Bins_(0.248, 0.296] : 0.0\n",
      "windspeed_Bins_(0.296, 0.378] : 0.01\n",
      "good_day_bike : 0.03\n"
     ]
    }
   ],
   "source": [
    "#Variables used in development of models\n",
    "X = dummy2.drop(\"success\", axis=1)\n",
    "y = dummy2[\"success\"]\n",
    "\n",
    "#Splitting in the same manner as before (using same random state)\n",
    "X_train, X_test, y_train, y_test = train_test_split(X, y, test_size=0.2, random_state=seed)\n",
    "\n",
    "print(\"Stability index values for derived binary predictors used between train and test set:\\n\")\n",
    "for col in X.columns:\n",
    "    print(col,\":\",round(calculate_psi(X_test[col], X_train[col], buckettype='bins', buckets=50, axis=0),2))"
   ]
  },
  {
   "cell_type": "markdown",
   "metadata": {},
   "source": [
    "&nbsp;&nbsp;&nbsp;&nbsp;Expectedly, derived binary predictors used in the development of the models are extremely stable in between train and test samples (populations). Lets check the original variables from which we derived these predictors."
   ]
  },
  {
   "cell_type": "code",
   "execution_count": 193,
   "metadata": {},
   "outputs": [
    {
     "name": "stdout",
     "output_type": "stream",
     "text": [
      "Stability index values for predictors used (original values) between train and test set:\n",
      "\n",
      "atemp : 0.12\n",
      "humidity : 0.05\n",
      "windspeed : 0.05\n",
      "is_workingday : 0.03\n",
      "weather_condition : 0.01\n"
     ]
    }
   ],
   "source": [
    "X = data[[\"atemp\",\"humidity\",\"windspeed\",\"is_workingday\",\"weather_condition\"]]\n",
    "y = data[\"success\"]\n",
    "\n",
    "#Splitting in the same manner as before (using same random state)\n",
    "X_train, X_test, y_train, y_test = train_test_split(X, y, test_size=0.2, random_state=seed)\n",
    "\n",
    "print(\"Stability index values for predictors used (original values) between train and test set:\\n\")\n",
    "for col in X.columns:\n",
    "    print(col,\":\",round(calculate_psi(X_test[col], X_train[col], buckettype='bins', buckets=10, axis=0),2))"
   ]
  },
  {
   "cell_type": "markdown",
   "metadata": {},
   "source": [
    "&nbsp;&nbsp;&nbsp;&nbsp;**The conclusion:** These also show stability between train and test sample, except \"atemp\" which shows moderate change between these 2 samples. It is interesting to notice how derivation of this predictor into few ones by binning, coarse classing and dummyfication \"stabilized\" it between train and test sets."
   ]
  },
  {
   "cell_type": "markdown",
   "metadata": {},
   "source": [
    "# 7. Project conclusion<a name=\"conclusion\"></a> "
   ]
  },
  {
   "cell_type": "markdown",
   "metadata": {},
   "source": [
    "&nbsp;&nbsp;&nbsp;&nbsp;Although I had some experience in exploratory data analysis and machine learning projects, this was my first more detailed one and I am verry happy with the result in terms of knowledge gathered while doing it. It was interesting to see how attribute relevance analysis measures like WoE and IV, which are traditionally used in credit risk and churn analysis, can be translated and applied to almost any data.\n",
    "\n",
    "&nbsp;&nbsp;&nbsp;&nbsp;Final overall accuracy of 0.73 of the best model developed (Logistic regression based one with added derived \"behavioural\" variable) isn't the best but it isn't terrible either. It was interesting to see that logistic regression outperformed random forest even with tuned hyperparameters. I think that was because logistic regression and WoE and IV method of attribute selection are synergistic since they essentially both use log-odds \"under the hood\"."
   ]
  }
 ],
 "metadata": {
  "kernelspec": {
   "display_name": "Python 3",
   "language": "python",
   "name": "python3"
  },
  "language_info": {
   "codemirror_mode": {
    "name": "ipython",
    "version": 3
   },
   "file_extension": ".py",
   "mimetype": "text/x-python",
   "name": "python",
   "nbconvert_exporter": "python",
   "pygments_lexer": "ipython3",
   "version": "3.7.9"
  }
 },
 "nbformat": 4,
 "nbformat_minor": 4
}
